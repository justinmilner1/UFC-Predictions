{
 "cells": [
  {
   "cell_type": "code",
   "execution_count": 1,
   "metadata": {},
   "outputs": [],
   "source": [
    "from tabnet import TabNet, TabNetClassifier\n",
    "import pandas as pd\n",
    "import numpy as np\n",
    "import matplotlib.pyplot as plt\n",
    "from sklearn.model_selection import train_test_split\n",
    "from sklearn.ensemble import RandomForestClassifier\n",
    "from sklearn.model_selection import train_test_split\n",
    "from sklearn.preprocessing import StandardScaler\n",
    "from sklearn.metrics import accuracy_score, classification_report,confusion_matrix\n",
    "from sklearn.utils.multiclass import unique_labels\n",
    "from sklearn.model_selection import GridSearchCV, RandomizedSearchCV\n",
    "from statistics import mean\n",
    "from pytorch_tabnet.tab_model import TabNetClassifier, TabNetRegressor\n",
    "from pytorch_tabnet.multitask import TabNetMultiTaskClassifier\n",
    "from pytorch_tabnet.tab_model import TabNetClassifier\n",
    "import torch\n",
    "from statistics import mean\n",
    "from sklearn.metrics import make_scorer\n",
    "from sklearn.model_selection import StratifiedKFold, KFold, train_test_split\n"
   ]
  },
  {
   "cell_type": "code",
   "execution_count": 2,
   "metadata": {},
   "outputs": [],
   "source": [
    "df = pd.read_csv('../data/JMpreprocessed_data2.csv')"
   ]
  },
  {
   "cell_type": "code",
   "execution_count": 3,
   "metadata": {},
   "outputs": [],
   "source": [
    "#splitting up data into training/testing\n",
    "y = df['Winner']\n",
    "X = df.drop(columns = 'Winner')\n",
    "\n",
    "X_train, X_test, y_train, y_test = train_test_split(X, y, test_size=0.05, random_state=43)"
   ]
  },
  {
   "cell_type": "code",
   "execution_count": 4,
   "metadata": {},
   "outputs": [],
   "source": [
    "scores_TabNet = []"
   ]
  },
  {
   "cell_type": "code",
   "execution_count": 5,
   "metadata": {
    "scrolled": true
   },
   "outputs": [
    {
     "name": "stdout",
     "output_type": "stream",
     "text": [
      "Device used : cpu\n",
      "counter: 0\n",
      "epoch 0  | loss: 0.75559 | val_0_auc: 0.53095 |  0:00:02s\n",
      "epoch 1  | loss: 0.69224 | val_0_auc: 0.48684 |  0:00:04s\n",
      "epoch 2  | loss: 0.68712 | val_0_auc: 0.51963 |  0:00:07s\n",
      "epoch 3  | loss: 0.68304 | val_0_auc: 0.58384 |  0:00:09s\n",
      "epoch 4  | loss: 0.68282 | val_0_auc: 0.57433 |  0:00:11s\n",
      "epoch 5  | loss: 0.67767 | val_0_auc: 0.53649 |  0:00:14s\n",
      "epoch 6  | loss: 0.68127 | val_0_auc: 0.55737 |  0:00:16s\n",
      "epoch 7  | loss: 0.67715 | val_0_auc: 0.56772 |  0:00:18s\n",
      "epoch 8  | loss: 0.6784  | val_0_auc: 0.58808 |  0:00:20s\n",
      "epoch 9  | loss: 0.67473 | val_0_auc: 0.61025 |  0:00:22s\n",
      "epoch 10 | loss: 0.66986 | val_0_auc: 0.62233 |  0:00:25s\n",
      "epoch 11 | loss: 0.66186 | val_0_auc: 0.59923 |  0:00:27s\n",
      "epoch 12 | loss: 0.65728 | val_0_auc: 0.60303 |  0:00:29s\n",
      "epoch 13 | loss: 0.65991 | val_0_auc: 0.59256 |  0:00:32s\n",
      "epoch 14 | loss: 0.6507  | val_0_auc: 0.62809 |  0:00:34s\n",
      "epoch 15 | loss: 0.63968 | val_0_auc: 0.63257 |  0:00:37s\n",
      "epoch 16 | loss: 0.63255 | val_0_auc: 0.61572 |  0:00:39s\n",
      "epoch 17 | loss: 0.62322 | val_0_auc: 0.62263 |  0:00:41s\n",
      "epoch 18 | loss: 0.61917 | val_0_auc: 0.6472  |  0:00:43s\n",
      "epoch 19 | loss: 0.63009 | val_0_auc: 0.63259 |  0:00:46s\n",
      "epoch 20 | loss: 0.62022 | val_0_auc: 0.66739 |  0:00:48s\n",
      "epoch 21 | loss: 0.62137 | val_0_auc: 0.6512  |  0:00:51s\n",
      "epoch 22 | loss: 0.61365 | val_0_auc: 0.66253 |  0:00:53s\n",
      "epoch 23 | loss: 0.60582 | val_0_auc: 0.66639 |  0:00:56s\n",
      "epoch 24 | loss: 0.60955 | val_0_auc: 0.67202 |  0:00:58s\n",
      "epoch 25 | loss: 0.61041 | val_0_auc: 0.66756 |  0:01:01s\n",
      "epoch 26 | loss: 0.59924 | val_0_auc: 0.66073 |  0:01:04s\n",
      "epoch 27 | loss: 0.61388 | val_0_auc: 0.66187 |  0:01:06s\n",
      "epoch 28 | loss: 0.60422 | val_0_auc: 0.67194 |  0:01:09s\n",
      "epoch 29 | loss: 0.58532 | val_0_auc: 0.68389 |  0:01:11s\n",
      "epoch 30 | loss: 0.59664 | val_0_auc: 0.68964 |  0:01:14s\n",
      "epoch 31 | loss: 0.60055 | val_0_auc: 0.67487 |  0:01:16s\n",
      "epoch 32 | loss: 0.59719 | val_0_auc: 0.68475 |  0:01:19s\n",
      "epoch 33 | loss: 0.58295 | val_0_auc: 0.66161 |  0:01:23s\n",
      "epoch 34 | loss: 0.57333 | val_0_auc: 0.68331 |  0:01:26s\n",
      "epoch 35 | loss: 0.58448 | val_0_auc: 0.67284 |  0:01:28s\n",
      "epoch 36 | loss: 0.57454 | val_0_auc: 0.66607 |  0:01:31s\n",
      "epoch 37 | loss: 0.55824 | val_0_auc: 0.67301 |  0:01:34s\n",
      "epoch 38 | loss: 0.56147 | val_0_auc: 0.67284 |  0:01:37s\n",
      "epoch 39 | loss: 0.55782 | val_0_auc: 0.6576  |  0:01:40s\n",
      "epoch 40 | loss: 0.54303 | val_0_auc: 0.67199 |  0:01:42s\n",
      "epoch 41 | loss: 0.54642 | val_0_auc: 0.65943 |  0:01:45s\n",
      "epoch 42 | loss: 0.55823 | val_0_auc: 0.65998 |  0:01:48s\n",
      "epoch 43 | loss: 0.54585 | val_0_auc: 0.65993 |  0:01:51s\n",
      "epoch 44 | loss: 0.54154 | val_0_auc: 0.65279 |  0:01:54s\n",
      "epoch 45 | loss: 0.54989 | val_0_auc: 0.65325 |  0:01:56s\n",
      "\n",
      "Early stopping occurred at epoch 45 with best_epoch = 30 and best_val_0_auc = 0.68964\n",
      "Best weights from best epoch are automatically used!\n",
      "counter: 1\n",
      "epoch 0  | loss: 0.60466 | val_0_auc: 0.67507 |  0:00:02s\n",
      "epoch 1  | loss: 0.58711 | val_0_auc: 0.66065 |  0:00:05s\n",
      "epoch 2  | loss: 0.57922 | val_0_auc: 0.66199 |  0:00:09s\n",
      "epoch 3  | loss: 0.58021 | val_0_auc: 0.6805  |  0:00:12s\n",
      "epoch 4  | loss: 0.57061 | val_0_auc: 0.65843 |  0:00:15s\n",
      "epoch 5  | loss: 0.57767 | val_0_auc: 0.6662  |  0:00:18s\n",
      "epoch 6  | loss: 0.5806  | val_0_auc: 0.66949 |  0:00:21s\n",
      "epoch 7  | loss: 0.57244 | val_0_auc: 0.66102 |  0:00:24s\n",
      "epoch 8  | loss: 0.5656  | val_0_auc: 0.67482 |  0:00:27s\n",
      "epoch 9  | loss: 0.56268 | val_0_auc: 0.66203 |  0:00:30s\n",
      "epoch 10 | loss: 0.54738 | val_0_auc: 0.64808 |  0:00:33s\n",
      "epoch 11 | loss: 0.54625 | val_0_auc: 0.65211 |  0:00:36s\n",
      "epoch 12 | loss: 0.53906 | val_0_auc: 0.65851 |  0:00:39s\n",
      "epoch 13 | loss: 0.52896 | val_0_auc: 0.65941 |  0:00:42s\n",
      "epoch 14 | loss: 0.53389 | val_0_auc: 0.63973 |  0:00:44s\n",
      "epoch 15 | loss: 0.54268 | val_0_auc: 0.63353 |  0:00:47s\n",
      "epoch 16 | loss: 0.52407 | val_0_auc: 0.62693 |  0:00:50s\n",
      "epoch 17 | loss: 0.52254 | val_0_auc: 0.63704 |  0:00:52s\n",
      "epoch 18 | loss: 0.54445 | val_0_auc: 0.64765 |  0:00:55s\n",
      "\n",
      "Early stopping occurred at epoch 18 with best_epoch = 3 and best_val_0_auc = 0.6805\n",
      "Best weights from best epoch are automatically used!\n",
      "counter: 2\n",
      "epoch 0  | loss: 0.58096 | val_0_auc: 0.63662 |  0:00:02s\n",
      "epoch 1  | loss: 0.57289 | val_0_auc: 0.64912 |  0:00:05s\n",
      "epoch 2  | loss: 0.55378 | val_0_auc: 0.65175 |  0:00:09s\n",
      "epoch 3  | loss: 0.55219 | val_0_auc: 0.64444 |  0:00:12s\n",
      "epoch 4  | loss: 0.55538 | val_0_auc: 0.66088 |  0:00:15s\n",
      "epoch 5  | loss: 0.54435 | val_0_auc: 0.63468 |  0:00:18s\n",
      "epoch 6  | loss: 0.54513 | val_0_auc: 0.61952 |  0:00:22s\n",
      "epoch 7  | loss: 0.54453 | val_0_auc: 0.63207 |  0:00:25s\n",
      "epoch 8  | loss: 0.52564 | val_0_auc: 0.65102 |  0:00:28s\n",
      "epoch 9  | loss: 0.52215 | val_0_auc: 0.62944 |  0:00:30s\n",
      "epoch 10 | loss: 0.50747 | val_0_auc: 0.63928 |  0:00:33s\n",
      "epoch 11 | loss: 0.5161  | val_0_auc: 0.6242  |  0:00:36s\n",
      "epoch 12 | loss: 0.51541 | val_0_auc: 0.6099  |  0:00:39s\n",
      "epoch 13 | loss: 0.51263 | val_0_auc: 0.60202 |  0:00:41s\n",
      "epoch 14 | loss: 0.49478 | val_0_auc: 0.63404 |  0:00:44s\n",
      "epoch 15 | loss: 0.5032  | val_0_auc: 0.62659 |  0:00:47s\n",
      "epoch 16 | loss: 0.50068 | val_0_auc: 0.61092 |  0:00:50s\n",
      "epoch 17 | loss: 0.52031 | val_0_auc: 0.61065 |  0:00:53s\n",
      "epoch 18 | loss: 0.48411 | val_0_auc: 0.62941 |  0:00:55s\n",
      "epoch 19 | loss: 0.48446 | val_0_auc: 0.63409 |  0:00:58s\n",
      "\n",
      "Early stopping occurred at epoch 19 with best_epoch = 4 and best_val_0_auc = 0.66088\n",
      "Best weights from best epoch are automatically used!\n",
      "counter: 3\n",
      "epoch 0  | loss: 0.55265 | val_0_auc: 0.63904 |  0:00:02s\n",
      "epoch 1  | loss: 0.53513 | val_0_auc: 0.63942 |  0:00:05s\n",
      "epoch 2  | loss: 0.54304 | val_0_auc: 0.63734 |  0:00:08s\n",
      "epoch 3  | loss: 0.54068 | val_0_auc: 0.64586 |  0:00:11s\n",
      "epoch 4  | loss: 0.53235 | val_0_auc: 0.66451 |  0:00:14s\n",
      "epoch 5  | loss: 0.5385  | val_0_auc: 0.64676 |  0:00:17s\n",
      "epoch 6  | loss: 0.50801 | val_0_auc: 0.63804 |  0:00:21s\n",
      "epoch 7  | loss: 0.49773 | val_0_auc: 0.62067 |  0:00:24s\n",
      "epoch 8  | loss: 0.51517 | val_0_auc: 0.62691 |  0:00:27s\n",
      "epoch 9  | loss: 0.50204 | val_0_auc: 0.62052 |  0:00:30s\n",
      "epoch 10 | loss: 0.49558 | val_0_auc: 0.62509 |  0:00:33s\n",
      "epoch 11 | loss: 0.5082  | val_0_auc: 0.609   |  0:00:35s\n",
      "epoch 12 | loss: 0.49714 | val_0_auc: 0.62932 |  0:00:38s\n",
      "epoch 13 | loss: 0.49351 | val_0_auc: 0.62547 |  0:00:41s\n",
      "epoch 14 | loss: 0.46849 | val_0_auc: 0.60343 |  0:00:44s\n",
      "epoch 15 | loss: 0.47856 | val_0_auc: 0.62109 |  0:00:46s\n",
      "epoch 16 | loss: 0.48727 | val_0_auc: 0.61691 |  0:00:49s\n",
      "epoch 17 | loss: 0.47115 | val_0_auc: 0.61241 |  0:00:52s\n",
      "epoch 18 | loss: 0.46904 | val_0_auc: 0.59804 |  0:00:55s\n",
      "epoch 19 | loss: 0.46643 | val_0_auc: 0.59712 |  0:00:57s\n",
      "\n",
      "Early stopping occurred at epoch 19 with best_epoch = 4 and best_val_0_auc = 0.66451\n",
      "Best weights from best epoch are automatically used!\n"
     ]
    }
   ],
   "source": [
    "clf = TabNetClassifier()  #TabNetRegressor()\n",
    "kf = KFold(n_splits=3)\n",
    "counter = 0\n",
    "for train_index, test_index in kf.split(X_train, y_train):\n",
    "    print(\"counter: \" + str(counter))\n",
    "    counter+=1\n",
    "    xtrain = X_train.iloc[min(train_index):max(train_index)]\n",
    "    xtest = X_train.iloc[min(test_index):max(test_index)]\n",
    "    ytrain = y_train.iloc[min(train_index):max(train_index)]\n",
    "    ytest = y_train.iloc[min(test_index):max(test_index)]\n",
    "    clf.fit(\n",
    "      X_train.to_numpy(), y_train.to_numpy(),\n",
    "      eval_set=[(X_test.to_numpy(), y_test.to_numpy())],\n",
    "      eval_metric=['auc'],\n",
    "      max_epochs=150 , patience=15,\n",
    "      batch_size=128, virtual_batch_size=64,\n",
    "      num_workers=0,\n",
    "      weights=1,\n",
    "      drop_last=False\n",
    "    )\n",
    "    \n",
    "    y_preds = clf.predict(xtest.to_numpy())\n",
    "    \n",
    "    scores_TabNet.append(accuracy_score(ytest, y_preds))"
   ]
  },
  {
   "cell_type": "code",
   "execution_count": 6,
   "metadata": {},
   "outputs": [
    {
     "data": {
      "text/plain": [
       "0.6394817073170732"
      ]
     },
     "execution_count": 6,
     "metadata": {},
     "output_type": "execute_result"
    }
   ],
   "source": [
    "mean(scores_TabNet)"
   ]
  },
  {
   "cell_type": "code",
   "execution_count": 7,
   "metadata": {},
   "outputs": [],
   "source": [
    "#Testing\n",
    "y_preds = clf.predict(X_test.to_numpy())"
   ]
  },
  {
   "cell_type": "code",
   "execution_count": 8,
   "metadata": {},
   "outputs": [
    {
     "data": {
      "text/plain": [
       "0.5496575342465754"
      ]
     },
     "execution_count": 8,
     "metadata": {},
     "output_type": "execute_result"
    }
   ],
   "source": [
    "accuracy_score(y_test, y_preds)"
   ]
  },
  {
   "cell_type": "code",
   "execution_count": 10,
   "metadata": {},
   "outputs": [
    {
     "data": {
      "text/plain": [
       "array([[176, 212],\n",
       "       [ 51, 145]])"
      ]
     },
     "execution_count": 10,
     "metadata": {},
     "output_type": "execute_result"
    }
   ],
   "source": [
    "from sklearn.metrics import confusion_matrix\n",
    "confusion_matrix(y_test, y_preds)"
   ]
  },
  {
   "cell_type": "code",
   "execution_count": null,
   "metadata": {},
   "outputs": [],
   "source": []
  }
 ],
 "metadata": {
  "kernelspec": {
   "display_name": "Python 3",
   "language": "python",
   "name": "python3"
  },
  "language_info": {
   "codemirror_mode": {
    "name": "ipython",
    "version": 3
   },
   "file_extension": ".py",
   "mimetype": "text/x-python",
   "name": "python",
   "nbconvert_exporter": "python",
   "pygments_lexer": "ipython3",
   "version": "3.8.3"
  }
 },
 "nbformat": 4,
 "nbformat_minor": 4
}
