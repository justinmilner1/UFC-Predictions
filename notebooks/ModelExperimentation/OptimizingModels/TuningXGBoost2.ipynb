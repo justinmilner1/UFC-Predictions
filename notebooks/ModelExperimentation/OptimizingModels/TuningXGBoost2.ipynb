{
 "cells": [
  {
   "cell_type": "code",
   "execution_count": 6,
   "metadata": {},
   "outputs": [],
   "source": [
    "# example of grid searching key hyperparameters for adaboost on a classification dataset\n",
    "from sklearn.datasets import make_classification\n",
    "from sklearn.model_selection import RepeatedStratifiedKFold\n",
    "from sklearn.model_selection import GridSearchCV\n",
    "from sklearn.ensemble import AdaBoostClassifier\n",
    "import pandas as pd\n",
    "import numpy as np\n",
    "from sklearn.model_selection import StratifiedKFold, KFold, train_test_split\n",
    "import xgboost as xgb\n",
    "\n"
   ]
  },
  {
   "cell_type": "code",
   "execution_count": 7,
   "metadata": {},
   "outputs": [],
   "source": [
    "df = pd.read_csv('../../data/JMpreprocessed_UnivariateSelecton_<5.csv')"
   ]
  },
  {
   "cell_type": "code",
   "execution_count": 8,
   "metadata": {},
   "outputs": [],
   "source": [
    "#splitting up data into training/testing\n",
    "y = df['Winner']\n",
    "X = df.drop(columns = 'Winner')\n",
    "\n",
    "X, X_test, y, y_test = train_test_split(X, y, test_size=0.05, random_state=21)"
   ]
  },
  {
   "cell_type": "code",
   "execution_count": 9,
   "metadata": {},
   "outputs": [],
   "source": [
    "# define the model with default hyperparameters\n",
    "model = xgb.XGBClassifier()\n",
    "# define the grid of values to search\n",
    "grid = dict()\n",
    "grid['depth'] = [2,3,5,8 ]\n",
    "grid['learning_rate'] = [.001, .01, .1]\n",
    "grid['subsample'] = [.5, 1]\n",
    "grid['early_stopping_rounds'] = [10, 25]\n",
    "grid['objective'] = ['binary:logistic']\n",
    "grid['n_estimators'] = [100, 200, 300]\n"
   ]
  },
  {
   "cell_type": "code",
   "execution_count": 10,
   "metadata": {},
   "outputs": [
    {
     "name": "stderr",
     "output_type": "stream",
     "text": [
      "/Users/justinmilner/opt/anaconda3/lib/python3.8/site-packages/xgboost/sklearn.py:888: UserWarning: The use of label encoder in XGBClassifier is deprecated and will be removed in a future release. To remove this warning, do the following: 1) Pass option use_label_encoder=False when constructing XGBClassifier object; and 2) Encode your labels (y) as integers starting with 0, i.e. 0, 1, 2, ..., [num_class - 1].\n",
      "  warnings.warn(label_encoder_deprecation_msg, UserWarning)\n"
     ]
    },
    {
     "name": "stdout",
     "output_type": "stream",
     "text": [
      "[18:26:04] WARNING: /Users/runner/miniforge3/conda-bld/xgboost_1607604592557/work/src/learner.cc:541: \n",
      "Parameters: { depth, early_stopping_rounds } might not be used.\n",
      "\n",
      "  This may not be accurate due to some parameters are only used in language bindings but\n",
      "  passed down to XGBoost core.  Or some parameters are not used but slip through this\n",
      "  verification. Please open an issue if you find above cases.\n",
      "\n",
      "\n",
      "[18:26:05] WARNING: /Users/runner/miniforge3/conda-bld/xgboost_1607604592557/work/src/learner.cc:1061: Starting in XGBoost 1.3.0, the default evaluation metric used with the objective 'binary:logistic' was changed from 'error' to 'logloss'. Explicitly set eval_metric if you'd like to restore the old behavior.\n"
     ]
    }
   ],
   "source": [
    "# define the evaluation procedure\n",
    "cv = RepeatedStratifiedKFold(n_splits=10, n_repeats=3, random_state=1)\n",
    "# define the grid search procedure\n",
    "grid_search = GridSearchCV(estimator=model, param_grid=grid, n_jobs=-1, cv=cv, scoring='accuracy')\n",
    "# execute the grid search\n",
    "grid_result = grid_search.fit(X, y)"
   ]
  },
  {
   "cell_type": "code",
   "execution_count": 11,
   "metadata": {},
   "outputs": [
    {
     "name": "stdout",
     "output_type": "stream",
     "text": [
      "Best: 0.686267 using {'depth': 2, 'early_stopping_rounds': 10, 'learning_rate': 0.01, 'n_estimators': 300, 'objective': 'binary:logistic', 'subsample': 0.5}\n"
     ]
    }
   ],
   "source": [
    "# summarize the best score and configuration\n",
    "print(\"Best: %f using %s\" % (grid_result.best_score_, grid_result.best_params_))"
   ]
  },
  {
   "cell_type": "code",
   "execution_count": 12,
   "metadata": {},
   "outputs": [
    {
     "name": "stdout",
     "output_type": "stream",
     "text": [
      "0.683322 (0.009082) with: {'depth': 2, 'early_stopping_rounds': 10, 'learning_rate': 0.001, 'n_estimators': 100, 'objective': 'binary:logistic', 'subsample': 0.5}\n",
      "0.663062 (0.013948) with: {'depth': 2, 'early_stopping_rounds': 10, 'learning_rate': 0.001, 'n_estimators': 100, 'objective': 'binary:logistic', 'subsample': 1}\n",
      "0.682841 (0.009604) with: {'depth': 2, 'early_stopping_rounds': 10, 'learning_rate': 0.001, 'n_estimators': 200, 'objective': 'binary:logistic', 'subsample': 0.5}\n",
      "0.666849 (0.011783) with: {'depth': 2, 'early_stopping_rounds': 10, 'learning_rate': 0.001, 'n_estimators': 200, 'objective': 'binary:logistic', 'subsample': 1}\n",
      "0.685426 (0.008892) with: {'depth': 2, 'early_stopping_rounds': 10, 'learning_rate': 0.001, 'n_estimators': 300, 'objective': 'binary:logistic', 'subsample': 0.5}\n",
      "0.667509 (0.011101) with: {'depth': 2, 'early_stopping_rounds': 10, 'learning_rate': 0.001, 'n_estimators': 300, 'objective': 'binary:logistic', 'subsample': 1}\n",
      "0.685546 (0.010358) with: {'depth': 2, 'early_stopping_rounds': 10, 'learning_rate': 0.01, 'n_estimators': 100, 'objective': 'binary:logistic', 'subsample': 0.5}\n",
      "0.674604 (0.009868) with: {'depth': 2, 'early_stopping_rounds': 10, 'learning_rate': 0.01, 'n_estimators': 100, 'objective': 'binary:logistic', 'subsample': 1}\n",
      "0.685787 (0.011875) with: {'depth': 2, 'early_stopping_rounds': 10, 'learning_rate': 0.01, 'n_estimators': 200, 'objective': 'binary:logistic', 'subsample': 0.5}\n",
      "0.677549 (0.011721) with: {'depth': 2, 'early_stopping_rounds': 10, 'learning_rate': 0.01, 'n_estimators': 200, 'objective': 'binary:logistic', 'subsample': 1}\n",
      "0.686267 (0.012792) with: {'depth': 2, 'early_stopping_rounds': 10, 'learning_rate': 0.01, 'n_estimators': 300, 'objective': 'binary:logistic', 'subsample': 0.5}\n",
      "0.678571 (0.012227) with: {'depth': 2, 'early_stopping_rounds': 10, 'learning_rate': 0.01, 'n_estimators': 300, 'objective': 'binary:logistic', 'subsample': 1}\n",
      "0.675319 (0.017117) with: {'depth': 2, 'early_stopping_rounds': 10, 'learning_rate': 0.1, 'n_estimators': 100, 'objective': 'binary:logistic', 'subsample': 0.5}\n",
      "0.676707 (0.015159) with: {'depth': 2, 'early_stopping_rounds': 10, 'learning_rate': 0.1, 'n_estimators': 100, 'objective': 'binary:logistic', 'subsample': 1}\n",
      "0.671232 (0.014795) with: {'depth': 2, 'early_stopping_rounds': 10, 'learning_rate': 0.1, 'n_estimators': 200, 'objective': 'binary:logistic', 'subsample': 0.5}\n",
      "0.669192 (0.016749) with: {'depth': 2, 'early_stopping_rounds': 10, 'learning_rate': 0.1, 'n_estimators': 200, 'objective': 'binary:logistic', 'subsample': 1}\n",
      "0.669189 (0.014680) with: {'depth': 2, 'early_stopping_rounds': 10, 'learning_rate': 0.1, 'n_estimators': 300, 'objective': 'binary:logistic', 'subsample': 0.5}\n",
      "0.668170 (0.015689) with: {'depth': 2, 'early_stopping_rounds': 10, 'learning_rate': 0.1, 'n_estimators': 300, 'objective': 'binary:logistic', 'subsample': 1}\n",
      "0.683322 (0.009082) with: {'depth': 2, 'early_stopping_rounds': 25, 'learning_rate': 0.001, 'n_estimators': 100, 'objective': 'binary:logistic', 'subsample': 0.5}\n",
      "0.663062 (0.013948) with: {'depth': 2, 'early_stopping_rounds': 25, 'learning_rate': 0.001, 'n_estimators': 100, 'objective': 'binary:logistic', 'subsample': 1}\n",
      "0.682841 (0.009604) with: {'depth': 2, 'early_stopping_rounds': 25, 'learning_rate': 0.001, 'n_estimators': 200, 'objective': 'binary:logistic', 'subsample': 0.5}\n",
      "0.666849 (0.011783) with: {'depth': 2, 'early_stopping_rounds': 25, 'learning_rate': 0.001, 'n_estimators': 200, 'objective': 'binary:logistic', 'subsample': 1}\n",
      "0.685426 (0.008892) with: {'depth': 2, 'early_stopping_rounds': 25, 'learning_rate': 0.001, 'n_estimators': 300, 'objective': 'binary:logistic', 'subsample': 0.5}\n",
      "0.667509 (0.011101) with: {'depth': 2, 'early_stopping_rounds': 25, 'learning_rate': 0.001, 'n_estimators': 300, 'objective': 'binary:logistic', 'subsample': 1}\n",
      "0.685546 (0.010358) with: {'depth': 2, 'early_stopping_rounds': 25, 'learning_rate': 0.01, 'n_estimators': 100, 'objective': 'binary:logistic', 'subsample': 0.5}\n",
      "0.674604 (0.009868) with: {'depth': 2, 'early_stopping_rounds': 25, 'learning_rate': 0.01, 'n_estimators': 100, 'objective': 'binary:logistic', 'subsample': 1}\n",
      "0.685787 (0.011875) with: {'depth': 2, 'early_stopping_rounds': 25, 'learning_rate': 0.01, 'n_estimators': 200, 'objective': 'binary:logistic', 'subsample': 0.5}\n",
      "0.677549 (0.011721) with: {'depth': 2, 'early_stopping_rounds': 25, 'learning_rate': 0.01, 'n_estimators': 200, 'objective': 'binary:logistic', 'subsample': 1}\n",
      "0.686267 (0.012792) with: {'depth': 2, 'early_stopping_rounds': 25, 'learning_rate': 0.01, 'n_estimators': 300, 'objective': 'binary:logistic', 'subsample': 0.5}\n",
      "0.678571 (0.012227) with: {'depth': 2, 'early_stopping_rounds': 25, 'learning_rate': 0.01, 'n_estimators': 300, 'objective': 'binary:logistic', 'subsample': 1}\n",
      "0.675319 (0.017117) with: {'depth': 2, 'early_stopping_rounds': 25, 'learning_rate': 0.1, 'n_estimators': 100, 'objective': 'binary:logistic', 'subsample': 0.5}\n",
      "0.676707 (0.015159) with: {'depth': 2, 'early_stopping_rounds': 25, 'learning_rate': 0.1, 'n_estimators': 100, 'objective': 'binary:logistic', 'subsample': 1}\n",
      "0.671232 (0.014795) with: {'depth': 2, 'early_stopping_rounds': 25, 'learning_rate': 0.1, 'n_estimators': 200, 'objective': 'binary:logistic', 'subsample': 0.5}\n",
      "0.669192 (0.016749) with: {'depth': 2, 'early_stopping_rounds': 25, 'learning_rate': 0.1, 'n_estimators': 200, 'objective': 'binary:logistic', 'subsample': 1}\n",
      "0.669189 (0.014680) with: {'depth': 2, 'early_stopping_rounds': 25, 'learning_rate': 0.1, 'n_estimators': 300, 'objective': 'binary:logistic', 'subsample': 0.5}\n",
      "0.668170 (0.015689) with: {'depth': 2, 'early_stopping_rounds': 25, 'learning_rate': 0.1, 'n_estimators': 300, 'objective': 'binary:logistic', 'subsample': 1}\n",
      "0.683322 (0.009082) with: {'depth': 3, 'early_stopping_rounds': 10, 'learning_rate': 0.001, 'n_estimators': 100, 'objective': 'binary:logistic', 'subsample': 0.5}\n",
      "0.663062 (0.013948) with: {'depth': 3, 'early_stopping_rounds': 10, 'learning_rate': 0.001, 'n_estimators': 100, 'objective': 'binary:logistic', 'subsample': 1}\n",
      "0.682841 (0.009604) with: {'depth': 3, 'early_stopping_rounds': 10, 'learning_rate': 0.001, 'n_estimators': 200, 'objective': 'binary:logistic', 'subsample': 0.5}\n",
      "0.666849 (0.011783) with: {'depth': 3, 'early_stopping_rounds': 10, 'learning_rate': 0.001, 'n_estimators': 200, 'objective': 'binary:logistic', 'subsample': 1}\n",
      "0.685426 (0.008892) with: {'depth': 3, 'early_stopping_rounds': 10, 'learning_rate': 0.001, 'n_estimators': 300, 'objective': 'binary:logistic', 'subsample': 0.5}\n",
      "0.667509 (0.011101) with: {'depth': 3, 'early_stopping_rounds': 10, 'learning_rate': 0.001, 'n_estimators': 300, 'objective': 'binary:logistic', 'subsample': 1}\n",
      "0.685546 (0.010358) with: {'depth': 3, 'early_stopping_rounds': 10, 'learning_rate': 0.01, 'n_estimators': 100, 'objective': 'binary:logistic', 'subsample': 0.5}\n",
      "0.674604 (0.009868) with: {'depth': 3, 'early_stopping_rounds': 10, 'learning_rate': 0.01, 'n_estimators': 100, 'objective': 'binary:logistic', 'subsample': 1}\n",
      "0.685787 (0.011875) with: {'depth': 3, 'early_stopping_rounds': 10, 'learning_rate': 0.01, 'n_estimators': 200, 'objective': 'binary:logistic', 'subsample': 0.5}\n",
      "0.677549 (0.011721) with: {'depth': 3, 'early_stopping_rounds': 10, 'learning_rate': 0.01, 'n_estimators': 200, 'objective': 'binary:logistic', 'subsample': 1}\n",
      "0.686267 (0.012792) with: {'depth': 3, 'early_stopping_rounds': 10, 'learning_rate': 0.01, 'n_estimators': 300, 'objective': 'binary:logistic', 'subsample': 0.5}\n",
      "0.678571 (0.012227) with: {'depth': 3, 'early_stopping_rounds': 10, 'learning_rate': 0.01, 'n_estimators': 300, 'objective': 'binary:logistic', 'subsample': 1}\n",
      "0.675319 (0.017117) with: {'depth': 3, 'early_stopping_rounds': 10, 'learning_rate': 0.1, 'n_estimators': 100, 'objective': 'binary:logistic', 'subsample': 0.5}\n",
      "0.676707 (0.015159) with: {'depth': 3, 'early_stopping_rounds': 10, 'learning_rate': 0.1, 'n_estimators': 100, 'objective': 'binary:logistic', 'subsample': 1}\n",
      "0.671232 (0.014795) with: {'depth': 3, 'early_stopping_rounds': 10, 'learning_rate': 0.1, 'n_estimators': 200, 'objective': 'binary:logistic', 'subsample': 0.5}\n",
      "0.669192 (0.016749) with: {'depth': 3, 'early_stopping_rounds': 10, 'learning_rate': 0.1, 'n_estimators': 200, 'objective': 'binary:logistic', 'subsample': 1}\n",
      "0.669189 (0.014680) with: {'depth': 3, 'early_stopping_rounds': 10, 'learning_rate': 0.1, 'n_estimators': 300, 'objective': 'binary:logistic', 'subsample': 0.5}\n",
      "0.668170 (0.015689) with: {'depth': 3, 'early_stopping_rounds': 10, 'learning_rate': 0.1, 'n_estimators': 300, 'objective': 'binary:logistic', 'subsample': 1}\n",
      "0.683322 (0.009082) with: {'depth': 3, 'early_stopping_rounds': 25, 'learning_rate': 0.001, 'n_estimators': 100, 'objective': 'binary:logistic', 'subsample': 0.5}\n",
      "0.663062 (0.013948) with: {'depth': 3, 'early_stopping_rounds': 25, 'learning_rate': 0.001, 'n_estimators': 100, 'objective': 'binary:logistic', 'subsample': 1}\n",
      "0.682841 (0.009604) with: {'depth': 3, 'early_stopping_rounds': 25, 'learning_rate': 0.001, 'n_estimators': 200, 'objective': 'binary:logistic', 'subsample': 0.5}\n",
      "0.666849 (0.011783) with: {'depth': 3, 'early_stopping_rounds': 25, 'learning_rate': 0.001, 'n_estimators': 200, 'objective': 'binary:logistic', 'subsample': 1}\n",
      "0.685426 (0.008892) with: {'depth': 3, 'early_stopping_rounds': 25, 'learning_rate': 0.001, 'n_estimators': 300, 'objective': 'binary:logistic', 'subsample': 0.5}\n",
      "0.667509 (0.011101) with: {'depth': 3, 'early_stopping_rounds': 25, 'learning_rate': 0.001, 'n_estimators': 300, 'objective': 'binary:logistic', 'subsample': 1}\n",
      "0.685546 (0.010358) with: {'depth': 3, 'early_stopping_rounds': 25, 'learning_rate': 0.01, 'n_estimators': 100, 'objective': 'binary:logistic', 'subsample': 0.5}\n",
      "0.674604 (0.009868) with: {'depth': 3, 'early_stopping_rounds': 25, 'learning_rate': 0.01, 'n_estimators': 100, 'objective': 'binary:logistic', 'subsample': 1}\n",
      "0.685787 (0.011875) with: {'depth': 3, 'early_stopping_rounds': 25, 'learning_rate': 0.01, 'n_estimators': 200, 'objective': 'binary:logistic', 'subsample': 0.5}\n",
      "0.677549 (0.011721) with: {'depth': 3, 'early_stopping_rounds': 25, 'learning_rate': 0.01, 'n_estimators': 200, 'objective': 'binary:logistic', 'subsample': 1}\n",
      "0.686267 (0.012792) with: {'depth': 3, 'early_stopping_rounds': 25, 'learning_rate': 0.01, 'n_estimators': 300, 'objective': 'binary:logistic', 'subsample': 0.5}\n",
      "0.678571 (0.012227) with: {'depth': 3, 'early_stopping_rounds': 25, 'learning_rate': 0.01, 'n_estimators': 300, 'objective': 'binary:logistic', 'subsample': 1}\n",
      "0.675319 (0.017117) with: {'depth': 3, 'early_stopping_rounds': 25, 'learning_rate': 0.1, 'n_estimators': 100, 'objective': 'binary:logistic', 'subsample': 0.5}\n",
      "0.676707 (0.015159) with: {'depth': 3, 'early_stopping_rounds': 25, 'learning_rate': 0.1, 'n_estimators': 100, 'objective': 'binary:logistic', 'subsample': 1}\n",
      "0.671232 (0.014795) with: {'depth': 3, 'early_stopping_rounds': 25, 'learning_rate': 0.1, 'n_estimators': 200, 'objective': 'binary:logistic', 'subsample': 0.5}\n",
      "0.669192 (0.016749) with: {'depth': 3, 'early_stopping_rounds': 25, 'learning_rate': 0.1, 'n_estimators': 200, 'objective': 'binary:logistic', 'subsample': 1}\n",
      "0.669189 (0.014680) with: {'depth': 3, 'early_stopping_rounds': 25, 'learning_rate': 0.1, 'n_estimators': 300, 'objective': 'binary:logistic', 'subsample': 0.5}\n",
      "0.668170 (0.015689) with: {'depth': 3, 'early_stopping_rounds': 25, 'learning_rate': 0.1, 'n_estimators': 300, 'objective': 'binary:logistic', 'subsample': 1}\n",
      "0.683322 (0.009082) with: {'depth': 5, 'early_stopping_rounds': 10, 'learning_rate': 0.001, 'n_estimators': 100, 'objective': 'binary:logistic', 'subsample': 0.5}\n",
      "0.663062 (0.013948) with: {'depth': 5, 'early_stopping_rounds': 10, 'learning_rate': 0.001, 'n_estimators': 100, 'objective': 'binary:logistic', 'subsample': 1}\n",
      "0.682841 (0.009604) with: {'depth': 5, 'early_stopping_rounds': 10, 'learning_rate': 0.001, 'n_estimators': 200, 'objective': 'binary:logistic', 'subsample': 0.5}\n",
      "0.666849 (0.011783) with: {'depth': 5, 'early_stopping_rounds': 10, 'learning_rate': 0.001, 'n_estimators': 200, 'objective': 'binary:logistic', 'subsample': 1}\n",
      "0.685426 (0.008892) with: {'depth': 5, 'early_stopping_rounds': 10, 'learning_rate': 0.001, 'n_estimators': 300, 'objective': 'binary:logistic', 'subsample': 0.5}\n",
      "0.667509 (0.011101) with: {'depth': 5, 'early_stopping_rounds': 10, 'learning_rate': 0.001, 'n_estimators': 300, 'objective': 'binary:logistic', 'subsample': 1}\n",
      "0.685546 (0.010358) with: {'depth': 5, 'early_stopping_rounds': 10, 'learning_rate': 0.01, 'n_estimators': 100, 'objective': 'binary:logistic', 'subsample': 0.5}\n",
      "0.674604 (0.009868) with: {'depth': 5, 'early_stopping_rounds': 10, 'learning_rate': 0.01, 'n_estimators': 100, 'objective': 'binary:logistic', 'subsample': 1}\n",
      "0.685787 (0.011875) with: {'depth': 5, 'early_stopping_rounds': 10, 'learning_rate': 0.01, 'n_estimators': 200, 'objective': 'binary:logistic', 'subsample': 0.5}\n",
      "0.677549 (0.011721) with: {'depth': 5, 'early_stopping_rounds': 10, 'learning_rate': 0.01, 'n_estimators': 200, 'objective': 'binary:logistic', 'subsample': 1}\n",
      "0.686267 (0.012792) with: {'depth': 5, 'early_stopping_rounds': 10, 'learning_rate': 0.01, 'n_estimators': 300, 'objective': 'binary:logistic', 'subsample': 0.5}\n",
      "0.678571 (0.012227) with: {'depth': 5, 'early_stopping_rounds': 10, 'learning_rate': 0.01, 'n_estimators': 300, 'objective': 'binary:logistic', 'subsample': 1}\n",
      "0.675319 (0.017117) with: {'depth': 5, 'early_stopping_rounds': 10, 'learning_rate': 0.1, 'n_estimators': 100, 'objective': 'binary:logistic', 'subsample': 0.5}\n",
      "0.676707 (0.015159) with: {'depth': 5, 'early_stopping_rounds': 10, 'learning_rate': 0.1, 'n_estimators': 100, 'objective': 'binary:logistic', 'subsample': 1}\n",
      "0.671232 (0.014795) with: {'depth': 5, 'early_stopping_rounds': 10, 'learning_rate': 0.1, 'n_estimators': 200, 'objective': 'binary:logistic', 'subsample': 0.5}\n",
      "0.669192 (0.016749) with: {'depth': 5, 'early_stopping_rounds': 10, 'learning_rate': 0.1, 'n_estimators': 200, 'objective': 'binary:logistic', 'subsample': 1}\n",
      "0.669189 (0.014680) with: {'depth': 5, 'early_stopping_rounds': 10, 'learning_rate': 0.1, 'n_estimators': 300, 'objective': 'binary:logistic', 'subsample': 0.5}\n",
      "0.668170 (0.015689) with: {'depth': 5, 'early_stopping_rounds': 10, 'learning_rate': 0.1, 'n_estimators': 300, 'objective': 'binary:logistic', 'subsample': 1}\n",
      "0.683322 (0.009082) with: {'depth': 5, 'early_stopping_rounds': 25, 'learning_rate': 0.001, 'n_estimators': 100, 'objective': 'binary:logistic', 'subsample': 0.5}\n",
      "0.663062 (0.013948) with: {'depth': 5, 'early_stopping_rounds': 25, 'learning_rate': 0.001, 'n_estimators': 100, 'objective': 'binary:logistic', 'subsample': 1}\n",
      "0.682841 (0.009604) with: {'depth': 5, 'early_stopping_rounds': 25, 'learning_rate': 0.001, 'n_estimators': 200, 'objective': 'binary:logistic', 'subsample': 0.5}\n",
      "0.666849 (0.011783) with: {'depth': 5, 'early_stopping_rounds': 25, 'learning_rate': 0.001, 'n_estimators': 200, 'objective': 'binary:logistic', 'subsample': 1}\n",
      "0.685426 (0.008892) with: {'depth': 5, 'early_stopping_rounds': 25, 'learning_rate': 0.001, 'n_estimators': 300, 'objective': 'binary:logistic', 'subsample': 0.5}\n",
      "0.667509 (0.011101) with: {'depth': 5, 'early_stopping_rounds': 25, 'learning_rate': 0.001, 'n_estimators': 300, 'objective': 'binary:logistic', 'subsample': 1}\n",
      "0.685546 (0.010358) with: {'depth': 5, 'early_stopping_rounds': 25, 'learning_rate': 0.01, 'n_estimators': 100, 'objective': 'binary:logistic', 'subsample': 0.5}\n",
      "0.674604 (0.009868) with: {'depth': 5, 'early_stopping_rounds': 25, 'learning_rate': 0.01, 'n_estimators': 100, 'objective': 'binary:logistic', 'subsample': 1}\n",
      "0.685787 (0.011875) with: {'depth': 5, 'early_stopping_rounds': 25, 'learning_rate': 0.01, 'n_estimators': 200, 'objective': 'binary:logistic', 'subsample': 0.5}\n",
      "0.677549 (0.011721) with: {'depth': 5, 'early_stopping_rounds': 25, 'learning_rate': 0.01, 'n_estimators': 200, 'objective': 'binary:logistic', 'subsample': 1}\n",
      "0.686267 (0.012792) with: {'depth': 5, 'early_stopping_rounds': 25, 'learning_rate': 0.01, 'n_estimators': 300, 'objective': 'binary:logistic', 'subsample': 0.5}\n",
      "0.678571 (0.012227) with: {'depth': 5, 'early_stopping_rounds': 25, 'learning_rate': 0.01, 'n_estimators': 300, 'objective': 'binary:logistic', 'subsample': 1}\n",
      "0.675319 (0.017117) with: {'depth': 5, 'early_stopping_rounds': 25, 'learning_rate': 0.1, 'n_estimators': 100, 'objective': 'binary:logistic', 'subsample': 0.5}\n",
      "0.676707 (0.015159) with: {'depth': 5, 'early_stopping_rounds': 25, 'learning_rate': 0.1, 'n_estimators': 100, 'objective': 'binary:logistic', 'subsample': 1}\n",
      "0.671232 (0.014795) with: {'depth': 5, 'early_stopping_rounds': 25, 'learning_rate': 0.1, 'n_estimators': 200, 'objective': 'binary:logistic', 'subsample': 0.5}\n",
      "0.669192 (0.016749) with: {'depth': 5, 'early_stopping_rounds': 25, 'learning_rate': 0.1, 'n_estimators': 200, 'objective': 'binary:logistic', 'subsample': 1}\n",
      "0.669189 (0.014680) with: {'depth': 5, 'early_stopping_rounds': 25, 'learning_rate': 0.1, 'n_estimators': 300, 'objective': 'binary:logistic', 'subsample': 0.5}\n",
      "0.668170 (0.015689) with: {'depth': 5, 'early_stopping_rounds': 25, 'learning_rate': 0.1, 'n_estimators': 300, 'objective': 'binary:logistic', 'subsample': 1}\n",
      "0.683322 (0.009082) with: {'depth': 8, 'early_stopping_rounds': 10, 'learning_rate': 0.001, 'n_estimators': 100, 'objective': 'binary:logistic', 'subsample': 0.5}\n",
      "0.663062 (0.013948) with: {'depth': 8, 'early_stopping_rounds': 10, 'learning_rate': 0.001, 'n_estimators': 100, 'objective': 'binary:logistic', 'subsample': 1}\n",
      "0.682841 (0.009604) with: {'depth': 8, 'early_stopping_rounds': 10, 'learning_rate': 0.001, 'n_estimators': 200, 'objective': 'binary:logistic', 'subsample': 0.5}\n",
      "0.666849 (0.011783) with: {'depth': 8, 'early_stopping_rounds': 10, 'learning_rate': 0.001, 'n_estimators': 200, 'objective': 'binary:logistic', 'subsample': 1}\n",
      "0.685426 (0.008892) with: {'depth': 8, 'early_stopping_rounds': 10, 'learning_rate': 0.001, 'n_estimators': 300, 'objective': 'binary:logistic', 'subsample': 0.5}\n",
      "0.667509 (0.011101) with: {'depth': 8, 'early_stopping_rounds': 10, 'learning_rate': 0.001, 'n_estimators': 300, 'objective': 'binary:logistic', 'subsample': 1}\n",
      "0.685546 (0.010358) with: {'depth': 8, 'early_stopping_rounds': 10, 'learning_rate': 0.01, 'n_estimators': 100, 'objective': 'binary:logistic', 'subsample': 0.5}\n",
      "0.674604 (0.009868) with: {'depth': 8, 'early_stopping_rounds': 10, 'learning_rate': 0.01, 'n_estimators': 100, 'objective': 'binary:logistic', 'subsample': 1}\n",
      "0.685787 (0.011875) with: {'depth': 8, 'early_stopping_rounds': 10, 'learning_rate': 0.01, 'n_estimators': 200, 'objective': 'binary:logistic', 'subsample': 0.5}\n",
      "0.677549 (0.011721) with: {'depth': 8, 'early_stopping_rounds': 10, 'learning_rate': 0.01, 'n_estimators': 200, 'objective': 'binary:logistic', 'subsample': 1}\n",
      "0.686267 (0.012792) with: {'depth': 8, 'early_stopping_rounds': 10, 'learning_rate': 0.01, 'n_estimators': 300, 'objective': 'binary:logistic', 'subsample': 0.5}\n",
      "0.678571 (0.012227) with: {'depth': 8, 'early_stopping_rounds': 10, 'learning_rate': 0.01, 'n_estimators': 300, 'objective': 'binary:logistic', 'subsample': 1}\n",
      "0.675319 (0.017117) with: {'depth': 8, 'early_stopping_rounds': 10, 'learning_rate': 0.1, 'n_estimators': 100, 'objective': 'binary:logistic', 'subsample': 0.5}\n",
      "0.676707 (0.015159) with: {'depth': 8, 'early_stopping_rounds': 10, 'learning_rate': 0.1, 'n_estimators': 100, 'objective': 'binary:logistic', 'subsample': 1}\n",
      "0.671232 (0.014795) with: {'depth': 8, 'early_stopping_rounds': 10, 'learning_rate': 0.1, 'n_estimators': 200, 'objective': 'binary:logistic', 'subsample': 0.5}\n",
      "0.669192 (0.016749) with: {'depth': 8, 'early_stopping_rounds': 10, 'learning_rate': 0.1, 'n_estimators': 200, 'objective': 'binary:logistic', 'subsample': 1}\n",
      "0.669189 (0.014680) with: {'depth': 8, 'early_stopping_rounds': 10, 'learning_rate': 0.1, 'n_estimators': 300, 'objective': 'binary:logistic', 'subsample': 0.5}\n",
      "0.668170 (0.015689) with: {'depth': 8, 'early_stopping_rounds': 10, 'learning_rate': 0.1, 'n_estimators': 300, 'objective': 'binary:logistic', 'subsample': 1}\n",
      "0.683322 (0.009082) with: {'depth': 8, 'early_stopping_rounds': 25, 'learning_rate': 0.001, 'n_estimators': 100, 'objective': 'binary:logistic', 'subsample': 0.5}\n",
      "0.663062 (0.013948) with: {'depth': 8, 'early_stopping_rounds': 25, 'learning_rate': 0.001, 'n_estimators': 100, 'objective': 'binary:logistic', 'subsample': 1}\n",
      "0.682841 (0.009604) with: {'depth': 8, 'early_stopping_rounds': 25, 'learning_rate': 0.001, 'n_estimators': 200, 'objective': 'binary:logistic', 'subsample': 0.5}\n",
      "0.666849 (0.011783) with: {'depth': 8, 'early_stopping_rounds': 25, 'learning_rate': 0.001, 'n_estimators': 200, 'objective': 'binary:logistic', 'subsample': 1}\n",
      "0.685426 (0.008892) with: {'depth': 8, 'early_stopping_rounds': 25, 'learning_rate': 0.001, 'n_estimators': 300, 'objective': 'binary:logistic', 'subsample': 0.5}\n",
      "0.667509 (0.011101) with: {'depth': 8, 'early_stopping_rounds': 25, 'learning_rate': 0.001, 'n_estimators': 300, 'objective': 'binary:logistic', 'subsample': 1}\n",
      "0.685546 (0.010358) with: {'depth': 8, 'early_stopping_rounds': 25, 'learning_rate': 0.01, 'n_estimators': 100, 'objective': 'binary:logistic', 'subsample': 0.5}\n",
      "0.674604 (0.009868) with: {'depth': 8, 'early_stopping_rounds': 25, 'learning_rate': 0.01, 'n_estimators': 100, 'objective': 'binary:logistic', 'subsample': 1}\n",
      "0.685787 (0.011875) with: {'depth': 8, 'early_stopping_rounds': 25, 'learning_rate': 0.01, 'n_estimators': 200, 'objective': 'binary:logistic', 'subsample': 0.5}\n",
      "0.677549 (0.011721) with: {'depth': 8, 'early_stopping_rounds': 25, 'learning_rate': 0.01, 'n_estimators': 200, 'objective': 'binary:logistic', 'subsample': 1}\n",
      "0.686267 (0.012792) with: {'depth': 8, 'early_stopping_rounds': 25, 'learning_rate': 0.01, 'n_estimators': 300, 'objective': 'binary:logistic', 'subsample': 0.5}\n",
      "0.678571 (0.012227) with: {'depth': 8, 'early_stopping_rounds': 25, 'learning_rate': 0.01, 'n_estimators': 300, 'objective': 'binary:logistic', 'subsample': 1}\n",
      "0.675319 (0.017117) with: {'depth': 8, 'early_stopping_rounds': 25, 'learning_rate': 0.1, 'n_estimators': 100, 'objective': 'binary:logistic', 'subsample': 0.5}\n",
      "0.676707 (0.015159) with: {'depth': 8, 'early_stopping_rounds': 25, 'learning_rate': 0.1, 'n_estimators': 100, 'objective': 'binary:logistic', 'subsample': 1}\n",
      "0.671232 (0.014795) with: {'depth': 8, 'early_stopping_rounds': 25, 'learning_rate': 0.1, 'n_estimators': 200, 'objective': 'binary:logistic', 'subsample': 0.5}\n",
      "0.669192 (0.016749) with: {'depth': 8, 'early_stopping_rounds': 25, 'learning_rate': 0.1, 'n_estimators': 200, 'objective': 'binary:logistic', 'subsample': 1}\n",
      "0.669189 (0.014680) with: {'depth': 8, 'early_stopping_rounds': 25, 'learning_rate': 0.1, 'n_estimators': 300, 'objective': 'binary:logistic', 'subsample': 0.5}\n",
      "0.668170 (0.015689) with: {'depth': 8, 'early_stopping_rounds': 25, 'learning_rate': 0.1, 'n_estimators': 300, 'objective': 'binary:logistic', 'subsample': 1}\n"
     ]
    }
   ],
   "source": [
    "# summarize all scores that were evaluated\n",
    "means = grid_result.cv_results_['mean_test_score']\n",
    "stds = grid_result.cv_results_['std_test_score']\n",
    "params = grid_result.cv_results_['params']\n",
    "for mean, stdev, param in zip(means, stds, params):\n",
    "    print(\"%f (%f) with: %r\" % (mean, stdev, param))"
   ]
  },
  {
   "cell_type": "code",
   "execution_count": 13,
   "metadata": {},
   "outputs": [],
   "source": [
    "model = xgb.XGBClassifier(depth= 2, early_stopping_rounds= 10, learning_rate= 0.01, n_estimators= 300, objective='binary:logistic', subsample= 0.5)"
   ]
  },
  {
   "cell_type": "code",
   "execution_count": 14,
   "metadata": {},
   "outputs": [
    {
     "name": "stdout",
     "output_type": "stream",
     "text": [
      "[20:37:59] WARNING: /Users/runner/miniforge3/conda-bld/xgboost_1607604592557/work/src/learner.cc:541: \n",
      "Parameters: { depth, early_stopping_rounds } might not be used.\n",
      "\n",
      "  This may not be accurate due to some parameters are only used in language bindings but\n",
      "  passed down to XGBoost core.  Or some parameters are not used but slip through this\n",
      "  verification. Please open an issue if you find above cases.\n",
      "\n",
      "\n",
      "[20:37:59] WARNING: /Users/runner/miniforge3/conda-bld/xgboost_1607604592557/work/src/learner.cc:1061: Starting in XGBoost 1.3.0, the default evaluation metric used with the objective 'binary:logistic' was changed from 'error' to 'logloss'. Explicitly set eval_metric if you'd like to restore the old behavior.\n"
     ]
    },
    {
     "data": {
      "text/plain": [
       "0.6986301369863014"
      ]
     },
     "execution_count": 14,
     "metadata": {},
     "output_type": "execute_result"
    }
   ],
   "source": [
    "#getting validation set best\n",
    "model.fit(X, y)\n",
    "model.score(X_test, y_test)"
   ]
  },
  {
   "cell_type": "code",
   "execution_count": null,
   "metadata": {},
   "outputs": [],
   "source": []
  },
  {
   "cell_type": "code",
   "execution_count": null,
   "metadata": {},
   "outputs": [],
   "source": []
  }
 ],
 "metadata": {
  "kernelspec": {
   "display_name": "Python 3",
   "language": "python",
   "name": "python3"
  },
  "language_info": {
   "codemirror_mode": {
    "name": "ipython",
    "version": 3
   },
   "file_extension": ".py",
   "mimetype": "text/x-python",
   "name": "python",
   "nbconvert_exporter": "python",
   "pygments_lexer": "ipython3",
   "version": "3.8.3"
  }
 },
 "nbformat": 4,
 "nbformat_minor": 4
}
