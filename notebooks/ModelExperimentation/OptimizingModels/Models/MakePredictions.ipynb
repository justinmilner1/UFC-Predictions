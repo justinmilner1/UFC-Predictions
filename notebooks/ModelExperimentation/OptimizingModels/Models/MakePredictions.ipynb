{
 "cells": [
  {
   "cell_type": "code",
   "execution_count": 1,
   "id": "seven-stadium",
   "metadata": {},
   "outputs": [],
   "source": [
    "import pickle\n",
    "from sklearn.datasets import make_classification\n",
    "from sklearn.model_selection import RepeatedStratifiedKFold\n",
    "from sklearn.model_selection import GridSearchCV\n",
    "from sklearn.ensemble import AdaBoostClassifier\n",
    "import pandas as pd\n",
    "import numpy as np\n",
    "from sklearn.model_selection import StratifiedKFold, KFold, train_test_split"
   ]
  },
  {
   "cell_type": "code",
   "execution_count": 2,
   "id": "regional-terror",
   "metadata": {},
   "outputs": [],
   "source": [
    "#unpickle the trained models\n",
    "pickle_off = open(\"adaboostmarch6\",\"rb\")\n",
    "emp = pickle.load(pickle_off)"
   ]
  },
  {
   "cell_type": "code",
   "execution_count": null,
   "id": "tropical-focus",
   "metadata": {},
   "outputs": [],
   "source": [
    "#getting the rows to test on\n",
    "df = pd.read_csv('../../data/JMpreprocessed_UnivariateSelecton_<5.csv')"
   ]
  },
  {
   "cell_type": "code",
   "execution_count": null,
   "id": "loaded-camera",
   "metadata": {},
   "outputs": [],
   "source": [
    "0.15625"
   ]
  }
 ],
 "metadata": {
  "kernelspec": {
   "display_name": "Python 3",
   "language": "python",
   "name": "python3"
  },
  "language_info": {
   "codemirror_mode": {
    "name": "ipython",
    "version": 3
   },
   "file_extension": ".py",
   "mimetype": "text/x-python",
   "name": "python",
   "nbconvert_exporter": "python",
   "pygments_lexer": "ipython3",
   "version": "3.8.3"
  }
 },
 "nbformat": 4,
 "nbformat_minor": 5
}
