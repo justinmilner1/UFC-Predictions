{
 "cells": [
  {
   "cell_type": "code",
   "execution_count": 1,
   "metadata": {},
   "outputs": [],
   "source": [
    "from tabnet import TabNet, TabNetClassifier\n",
    "import pandas as pd\n",
    "import numpy as np\n",
    "import matplotlib.pyplot as plt\n",
    "from sklearn.model_selection import train_test_split\n",
    "from sklearn.ensemble import RandomForestClassifier\n",
    "from sklearn.model_selection import train_test_split\n",
    "from sklearn.preprocessing import StandardScaler\n",
    "from sklearn.metrics import accuracy_score, classification_report,confusion_matrix\n",
    "from sklearn.utils.multiclass import unique_labels\n",
    "from sklearn.model_selection import GridSearchCV, RandomizedSearchCV\n",
    "from statistics import mean\n",
    "from pytorch_tabnet.tab_model import TabNetClassifier, TabNetRegressor\n",
    "from pytorch_tabnet.multitask import TabNetMultiTaskClassifier\n",
    "from pytorch_tabnet.tab_model import TabNetClassifier\n",
    "import torch\n",
    "from statistics import mean\n",
    "from sklearn.metrics import make_scorer\n",
    "from sklearn.model_selection import StratifiedKFold, KFold, train_test_split"
   ]
  },
  {
   "cell_type": "code",
   "execution_count": 2,
   "metadata": {},
   "outputs": [],
   "source": [
    "df = pd.read_csv('../data/JMpreprocessed_data2.csv')"
   ]
  },
  {
   "cell_type": "code",
   "execution_count": 3,
   "metadata": {},
   "outputs": [],
   "source": [
    "#splitting up data into training/testing\n",
    "y = df['Winner']\n",
    "X = df.drop(columns = 'Winner')\n",
    "\n",
    "X_train, X_test, y_train, y_test = train_test_split(X, y, test_size=0.05, random_state=43)"
   ]
  },
  {
   "cell_type": "code",
   "execution_count": 4,
   "metadata": {
    "scrolled": true
   },
   "outputs": [
    {
     "name": "stdout",
     "output_type": "stream",
     "text": [
      "Device used : cpu\n",
      "epoch 0  | loss: 0.75641 | val_0_auc: 0.56595 |  0:00:03s\n",
      "epoch 1  | loss: 0.69251 | val_0_auc: 0.50684 |  0:00:06s\n",
      "epoch 2  | loss: 0.68636 | val_0_auc: 0.54801 |  0:00:10s\n",
      "epoch 3  | loss: 0.67431 | val_0_auc: 0.59826 |  0:00:14s\n",
      "epoch 4  | loss: 0.66875 | val_0_auc: 0.59313 |  0:00:20s\n",
      "epoch 5  | loss: 0.67284 | val_0_auc: 0.61747 |  0:00:26s\n",
      "epoch 6  | loss: 0.67243 | val_0_auc: 0.68018 |  0:00:30s\n",
      "epoch 7  | loss: 0.66463 | val_0_auc: 0.64738 |  0:00:34s\n",
      "epoch 8  | loss: 0.65439 | val_0_auc: 0.6564  |  0:00:38s\n",
      "epoch 9  | loss: 0.6527  | val_0_auc: 0.65521 |  0:00:42s\n",
      "epoch 10 | loss: 0.64268 | val_0_auc: 0.70941 |  0:00:45s\n",
      "epoch 11 | loss: 0.65519 | val_0_auc: 0.68128 |  0:00:51s\n",
      "epoch 12 | loss: 0.64392 | val_0_auc: 0.65583 |  0:00:54s\n",
      "epoch 13 | loss: 0.63458 | val_0_auc: 0.71378 |  0:00:57s\n",
      "epoch 14 | loss: 0.62946 | val_0_auc: 0.6818  |  0:01:01s\n",
      "epoch 15 | loss: 0.63559 | val_0_auc: 0.74015 |  0:01:05s\n",
      "epoch 16 | loss: 0.6268  | val_0_auc: 0.7227  |  0:01:08s\n",
      "epoch 17 | loss: 0.63012 | val_0_auc: 0.68358 |  0:01:12s\n",
      "epoch 18 | loss: 0.63036 | val_0_auc: 0.67623 |  0:01:15s\n",
      "epoch 19 | loss: 0.62629 | val_0_auc: 0.70927 |  0:01:18s\n",
      "epoch 20 | loss: 0.62434 | val_0_auc: 0.69984 |  0:01:22s\n",
      "epoch 21 | loss: 0.62055 | val_0_auc: 0.68815 |  0:01:25s\n",
      "epoch 22 | loss: 0.61315 | val_0_auc: 0.69276 |  0:01:28s\n",
      "epoch 23 | loss: 0.60546 | val_0_auc: 0.70065 |  0:01:32s\n",
      "epoch 24 | loss: 0.60767 | val_0_auc: 0.68277 |  0:01:35s\n",
      "epoch 25 | loss: 0.59405 | val_0_auc: 0.69352 |  0:01:38s\n",
      "epoch 26 | loss: 0.59376 | val_0_auc: 0.70838 |  0:01:43s\n",
      "epoch 27 | loss: 0.59702 | val_0_auc: 0.68825 |  0:01:47s\n",
      "epoch 28 | loss: 0.58566 | val_0_auc: 0.69333 |  0:01:52s\n",
      "epoch 29 | loss: 0.59897 | val_0_auc: 0.67607 |  0:01:57s\n",
      "epoch 30 | loss: 0.57872 | val_0_auc: 0.63722 |  0:02:00s\n",
      "\n",
      "Early stopping occurred at epoch 30 with best_epoch = 15 and best_val_0_auc = 0.74015\n",
      "Best weights from best epoch are automatically used!\n"
     ]
    },
    {
     "data": {
      "text/plain": [
       "0.702054794520548"
      ]
     },
     "execution_count": 4,
     "metadata": {},
     "output_type": "execute_result"
    }
   ],
   "source": [
    "clf = TabNetClassifier()  #TabNetRegressor()\n",
    "\n",
    "clf.fit(\n",
    "  X_train.to_numpy(), y_train.to_numpy(),\n",
    "  eval_set=[(X_test.to_numpy(), y_test.to_numpy())],\n",
    "  eval_metric=['auc'],\n",
    "  max_epochs=150 , patience=15,\n",
    "  batch_size=128, virtual_batch_size=64,\n",
    "  num_workers=0,\n",
    "  weights=1,\n",
    "  drop_last=False\n",
    ")\n",
    "\n",
    "y_preds = clf.predict(X_test.to_numpy())\n",
    "\n",
    "accuracy_score(y_test, y_preds)"
   ]
  },
  {
   "cell_type": "code",
   "execution_count": 5,
   "metadata": {},
   "outputs": [],
   "source": [
    "#Testing\n",
    "y_preds = clf.predict(X_test.to_numpy())"
   ]
  },
  {
   "cell_type": "code",
   "execution_count": 6,
   "metadata": {},
   "outputs": [
    {
     "data": {
      "text/plain": [
       "0.702054794520548"
      ]
     },
     "execution_count": 6,
     "metadata": {},
     "output_type": "execute_result"
    }
   ],
   "source": [
    "accuracy_score(y_test, y_preds)"
   ]
  },
  {
   "cell_type": "code",
   "execution_count": 7,
   "metadata": {},
   "outputs": [
    {
     "data": {
      "text/plain": [
       "array([[147,  52],\n",
       "       [ 35,  58]])"
      ]
     },
     "execution_count": 7,
     "metadata": {},
     "output_type": "execute_result"
    }
   ],
   "source": [
    "from sklearn.metrics import confusion_matrix\n",
    "confusion_matrix(y_test, y_preds)"
   ]
  },
  {
   "cell_type": "code",
   "execution_count": null,
   "metadata": {},
   "outputs": [],
   "source": []
  }
 ],
 "metadata": {
  "kernelspec": {
   "display_name": "Python 3",
   "language": "python",
   "name": "python3"
  },
  "language_info": {
   "codemirror_mode": {
    "name": "ipython",
    "version": 3
   },
   "file_extension": ".py",
   "mimetype": "text/x-python",
   "name": "python",
   "nbconvert_exporter": "python",
   "pygments_lexer": "ipython3",
   "version": "3.8.3"
  }
 },
 "nbformat": 4,
 "nbformat_minor": 4
}
