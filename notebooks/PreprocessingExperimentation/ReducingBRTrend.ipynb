{
 "cells": [
  {
   "cell_type": "markdown",
   "metadata": {},
   "source": [
    "There may be too much of a trend towards the red corner because thats\n",
    "where the favorite usually goes. I will swap the r and b corners for \n",
    "every other row in the dataset. "
   ]
  },
  {
   "cell_type": "code",
   "execution_count": 1,
   "metadata": {},
   "outputs": [],
   "source": [
    "import copy\n",
    "import pandas as pd\n",
    "import numpy as np\n",
    "import matplotlib.pyplot as plt"
   ]
  },
  {
   "cell_type": "code",
   "execution_count": 2,
   "metadata": {
    "scrolled": true
   },
   "outputs": [
    {
     "name": "stdout",
     "output_type": "stream",
     "text": [
      "5836\n"
     ]
    }
   ],
   "source": [
    "df = pd.read_csv('../data/JMpreprocessed_data2.csv')\n",
    "print(len(df))"
   ]
  },
  {
   "cell_type": "code",
   "execution_count": 3,
   "metadata": {
    "scrolled": true
   },
   "outputs": [
    {
     "data": {
      "text/html": [
       "<div>\n",
       "<style scoped>\n",
       "    .dataframe tbody tr th:only-of-type {\n",
       "        vertical-align: middle;\n",
       "    }\n",
       "\n",
       "    .dataframe tbody tr th {\n",
       "        vertical-align: top;\n",
       "    }\n",
       "\n",
       "    .dataframe thead th {\n",
       "        text-align: right;\n",
       "    }\n",
       "</style>\n",
       "<table border=\"1\" class=\"dataframe\">\n",
       "  <thead>\n",
       "    <tr style=\"text-align: right;\">\n",
       "      <th></th>\n",
       "      <th>Winner</th>\n",
       "      <th>B_avg_KD</th>\n",
       "      <th>B_avg_opp_KD</th>\n",
       "      <th>B_avg_SIG_STR_pct</th>\n",
       "      <th>B_avg_opp_SIG_STR_pct</th>\n",
       "      <th>B_avg_TD_pct</th>\n",
       "      <th>B_avg_opp_TD_pct</th>\n",
       "      <th>B_avg_SUB_ATT</th>\n",
       "      <th>B_avg_opp_SUB_ATT</th>\n",
       "      <th>B_avg_REV</th>\n",
       "      <th>...</th>\n",
       "      <th>B_Stance_Open Stance</th>\n",
       "      <th>B_Stance_Orthodox</th>\n",
       "      <th>B_Stance_Sideways</th>\n",
       "      <th>B_Stance_Southpaw</th>\n",
       "      <th>B_Stance_Switch</th>\n",
       "      <th>R_Stance_Open Stance</th>\n",
       "      <th>R_Stance_Orthodox</th>\n",
       "      <th>R_Stance_Sideways</th>\n",
       "      <th>R_Stance_Southpaw</th>\n",
       "      <th>R_Stance_Switch</th>\n",
       "    </tr>\n",
       "  </thead>\n",
       "  <tbody>\n",
       "    <tr>\n",
       "      <th>0</th>\n",
       "      <td>1</td>\n",
       "      <td>0.046875</td>\n",
       "      <td>0.070312</td>\n",
       "      <td>0.552969</td>\n",
       "      <td>0.412422</td>\n",
       "      <td>0.207031</td>\n",
       "      <td>0.152188</td>\n",
       "      <td>0.000000</td>\n",
       "      <td>0.000000</td>\n",
       "      <td>0.000000</td>\n",
       "      <td>...</td>\n",
       "      <td>0</td>\n",
       "      <td>1</td>\n",
       "      <td>0</td>\n",
       "      <td>0</td>\n",
       "      <td>0</td>\n",
       "      <td>0</td>\n",
       "      <td>1</td>\n",
       "      <td>0</td>\n",
       "      <td>0</td>\n",
       "      <td>0</td>\n",
       "    </tr>\n",
       "    <tr>\n",
       "      <th>1</th>\n",
       "      <td>0</td>\n",
       "      <td>0.001991</td>\n",
       "      <td>0.289082</td>\n",
       "      <td>0.444719</td>\n",
       "      <td>0.516684</td>\n",
       "      <td>0.141343</td>\n",
       "      <td>0.000017</td>\n",
       "      <td>0.016671</td>\n",
       "      <td>0.023640</td>\n",
       "      <td>0.007814</td>\n",
       "      <td>...</td>\n",
       "      <td>0</td>\n",
       "      <td>1</td>\n",
       "      <td>0</td>\n",
       "      <td>0</td>\n",
       "      <td>0</td>\n",
       "      <td>0</td>\n",
       "      <td>0</td>\n",
       "      <td>0</td>\n",
       "      <td>0</td>\n",
       "      <td>1</td>\n",
       "    </tr>\n",
       "    <tr>\n",
       "      <th>2</th>\n",
       "      <td>1</td>\n",
       "      <td>0.039551</td>\n",
       "      <td>0.008089</td>\n",
       "      <td>0.375617</td>\n",
       "      <td>0.431954</td>\n",
       "      <td>0.196597</td>\n",
       "      <td>0.330535</td>\n",
       "      <td>0.002093</td>\n",
       "      <td>1.318322</td>\n",
       "      <td>0.000015</td>\n",
       "      <td>...</td>\n",
       "      <td>0</td>\n",
       "      <td>1</td>\n",
       "      <td>0</td>\n",
       "      <td>0</td>\n",
       "      <td>0</td>\n",
       "      <td>0</td>\n",
       "      <td>0</td>\n",
       "      <td>0</td>\n",
       "      <td>1</td>\n",
       "      <td>0</td>\n",
       "    </tr>\n",
       "    <tr>\n",
       "      <th>3</th>\n",
       "      <td>0</td>\n",
       "      <td>0.015625</td>\n",
       "      <td>0.000000</td>\n",
       "      <td>0.450000</td>\n",
       "      <td>0.428447</td>\n",
       "      <td>0.250000</td>\n",
       "      <td>0.200000</td>\n",
       "      <td>0.148449</td>\n",
       "      <td>0.125000</td>\n",
       "      <td>0.000000</td>\n",
       "      <td>...</td>\n",
       "      <td>0</td>\n",
       "      <td>0</td>\n",
       "      <td>0</td>\n",
       "      <td>1</td>\n",
       "      <td>0</td>\n",
       "      <td>0</td>\n",
       "      <td>1</td>\n",
       "      <td>0</td>\n",
       "      <td>0</td>\n",
       "      <td>0</td>\n",
       "    </tr>\n",
       "    <tr>\n",
       "      <th>4</th>\n",
       "      <td>1</td>\n",
       "      <td>0.759773</td>\n",
       "      <td>0.019547</td>\n",
       "      <td>0.588316</td>\n",
       "      <td>0.504957</td>\n",
       "      <td>0.248394</td>\n",
       "      <td>0.002326</td>\n",
       "      <td>0.750267</td>\n",
       "      <td>0.126350</td>\n",
       "      <td>0.000000</td>\n",
       "      <td>...</td>\n",
       "      <td>0</td>\n",
       "      <td>0</td>\n",
       "      <td>0</td>\n",
       "      <td>1</td>\n",
       "      <td>0</td>\n",
       "      <td>0</td>\n",
       "      <td>1</td>\n",
       "      <td>0</td>\n",
       "      <td>0</td>\n",
       "      <td>0</td>\n",
       "    </tr>\n",
       "  </tbody>\n",
       "</table>\n",
       "<p>5 rows × 159 columns</p>\n",
       "</div>"
      ],
      "text/plain": [
       "   Winner  B_avg_KD  B_avg_opp_KD  B_avg_SIG_STR_pct  B_avg_opp_SIG_STR_pct  \\\n",
       "0       1  0.046875      0.070312           0.552969               0.412422   \n",
       "1       0  0.001991      0.289082           0.444719               0.516684   \n",
       "2       1  0.039551      0.008089           0.375617               0.431954   \n",
       "3       0  0.015625      0.000000           0.450000               0.428447   \n",
       "4       1  0.759773      0.019547           0.588316               0.504957   \n",
       "\n",
       "   B_avg_TD_pct  B_avg_opp_TD_pct  B_avg_SUB_ATT  B_avg_opp_SUB_ATT  \\\n",
       "0      0.207031          0.152188       0.000000           0.000000   \n",
       "1      0.141343          0.000017       0.016671           0.023640   \n",
       "2      0.196597          0.330535       0.002093           1.318322   \n",
       "3      0.250000          0.200000       0.148449           0.125000   \n",
       "4      0.248394          0.002326       0.750267           0.126350   \n",
       "\n",
       "   B_avg_REV  ...  B_Stance_Open Stance  B_Stance_Orthodox  B_Stance_Sideways  \\\n",
       "0   0.000000  ...                     0                  1                  0   \n",
       "1   0.007814  ...                     0                  1                  0   \n",
       "2   0.000015  ...                     0                  1                  0   \n",
       "3   0.000000  ...                     0                  0                  0   \n",
       "4   0.000000  ...                     0                  0                  0   \n",
       "\n",
       "   B_Stance_Southpaw  B_Stance_Switch  R_Stance_Open Stance  \\\n",
       "0                  0                0                     0   \n",
       "1                  0                0                     0   \n",
       "2                  0                0                     0   \n",
       "3                  1                0                     0   \n",
       "4                  1                0                     0   \n",
       "\n",
       "   R_Stance_Orthodox  R_Stance_Sideways  R_Stance_Southpaw  R_Stance_Switch  \n",
       "0                  1                  0                  0                0  \n",
       "1                  0                  0                  0                1  \n",
       "2                  0                  0                  1                0  \n",
       "3                  1                  0                  0                0  \n",
       "4                  1                  0                  0                0  \n",
       "\n",
       "[5 rows x 159 columns]"
      ]
     },
     "execution_count": 3,
     "metadata": {},
     "output_type": "execute_result"
    }
   ],
   "source": [
    "df.head()"
   ]
  },
  {
   "cell_type": "code",
   "execution_count": 4,
   "metadata": {},
   "outputs": [
    {
     "name": "stdout",
     "output_type": "stream",
     "text": [
      "5836\n"
     ]
    }
   ],
   "source": [
    "count_1 = 1\n",
    "# count of 0 \n",
    "count_0 = 1\n",
    "  \n",
    "# total length of list  \n",
    "size = 14\n",
    "  \n",
    "# initializing list cyclically \n",
    "# using list comprehension \n",
    "test_list =  [ 1 if i % (count_1 + count_0) < count_1  \n",
    "                 else 0 for i in range(len(df))]\n",
    "print(len(test_list))"
   ]
  },
  {
   "cell_type": "code",
   "execution_count": 5,
   "metadata": {},
   "outputs": [],
   "source": [
    "df['VALUE'] = test_list"
   ]
  },
  {
   "cell_type": "code",
   "execution_count": 6,
   "metadata": {},
   "outputs": [],
   "source": [
    "idx = (df['VALUE'] == 1)"
   ]
  },
  {
   "cell_type": "code",
   "execution_count": 7,
   "metadata": {
    "scrolled": true
   },
   "outputs": [],
   "source": [
    "column_list = list(df.columns)"
   ]
  },
  {
   "cell_type": "code",
   "execution_count": 8,
   "metadata": {},
   "outputs": [],
   "source": [
    "#creating lists of red/blue columns names\n",
    "red_column_names = []\n",
    "blue_column_names = []\n",
    "for column_name in column_list:\n",
    "    if column_name.startswith('B'):\n",
    "        blue_column_names.append(column_name)\n",
    "    elif column_name.startswith('R'):\n",
    "        red_column_names.append(column_name)"
   ]
  },
  {
   "cell_type": "code",
   "execution_count": 9,
   "metadata": {},
   "outputs": [],
   "source": [
    "#iterating through each columns and swapping r and b values\n",
    "for column_index in range(len(red_column_names)):\n",
    "    df.loc[idx,[red_column_names[column_index],blue_column_names[column_index]]] \\\n",
    "    = df.loc[idx,[blue_column_names[column_index],red_column_names[column_index]]].values\n",
    "    "
   ]
  },
  {
   "cell_type": "code",
   "execution_count": 10,
   "metadata": {},
   "outputs": [],
   "source": [
    "#swapping the winner assignment at correct index\n",
    "df.loc[idx, 'Winner'] = df.loc[idx, 'Winner'].map({0: 1, 1: 0})"
   ]
  },
  {
   "cell_type": "code",
   "execution_count": 11,
   "metadata": {},
   "outputs": [],
   "source": [
    "df = df.drop(columns = 'VALUE')"
   ]
  },
  {
   "cell_type": "code",
   "execution_count": 12,
   "metadata": {},
   "outputs": [],
   "source": [
    "df.to_csv('../data/JMpreprocessed_dataRedBlueSwapped.csv', index=False)"
   ]
  },
  {
   "cell_type": "code",
   "execution_count": null,
   "metadata": {},
   "outputs": [],
   "source": []
  }
 ],
 "metadata": {
  "kernelspec": {
   "display_name": "Python 3",
   "language": "python",
   "name": "python3"
  },
  "language_info": {
   "codemirror_mode": {
    "name": "ipython",
    "version": 3
   },
   "file_extension": ".py",
   "mimetype": "text/x-python",
   "name": "python",
   "nbconvert_exporter": "python",
   "pygments_lexer": "ipython3",
   "version": "3.8.3"
  }
 },
 "nbformat": 4,
 "nbformat_minor": 4
}
