{
 "cells": [
  {
   "cell_type": "code",
   "execution_count": 1,
   "id": "narrative-asian",
   "metadata": {},
   "outputs": [],
   "source": [
    "import pandas as pd\n",
    "import numpy as np\n",
    "import math\n",
    "import pickle\n",
    "from sklearn.ensemble import RandomForestClassifier\n",
    "from sklearn.ensemble import AdaBoostClassifier\n",
    "from sklearn.feature_selection import chi2\n",
    "from sklearn.feature_selection import SelectKBest\n",
    "from sklearn.model_selection import train_test_split\n",
    "from sklearn.model_selection import RepeatedStratifiedKFold\n",
    "from sklearn.model_selection import GridSearchCV\n",
    "from sklearn.metrics import accuracy_score, classification_report,confusion_matrix\n",
    "import matplotlib.pyplot as plt\n",
    "import subprocess"
   ]
  },
  {
   "cell_type": "code",
   "execution_count": null,
   "id": "alternate-indian",
   "metadata": {},
   "outputs": [],
   "source": [
    "subprocess.Popen(\"src.create_ufc_data\", cwd=\"/Users/justinmilner/Desktop/UFC-Predictions-master\")\n",
    "\n",
    "# %run '../../src/create_ufc_data.py' #creates total_fight_data.csv, fighter_details.csv"
   ]
  },
  {
   "cell_type": "markdown",
   "id": "extended-puzzle",
   "metadata": {},
   "source": [
    "# Preprocessing"
   ]
  },
  {
   "cell_type": "markdown",
   "id": "living-grocery",
   "metadata": {},
   "source": [
    "Before this, add the upcoming fights to total_fight_data"
   ]
  },
  {
   "cell_type": "code",
   "execution_count": 3,
   "id": "discrete-object",
   "metadata": {},
   "outputs": [
    {
     "name": "stdout",
     "output_type": "stream",
     "text": [
      "Index(['R_fighter', 'B_fighter', 'Fight_type', 'R_KD', 'B_KD', 'R_SIG_STR.',\n",
      "       'B_SIG_STR.', 'R_SIG_STR_pct', 'B_SIG_STR_pct', 'R_TOTAL_STR.',\n",
      "       'B_TOTAL_STR.', 'R_TD', 'B_TD', 'R_TD_pct', 'B_TD_pct', 'R_SUB_ATT',\n",
      "       'B_SUB_ATT', 'R_REV', 'B_REV', 'R_CTRL', 'B_CTRL', 'R_HEAD', 'B_HEAD',\n",
      "       'R_BODY', 'B_BODY', 'R_LEG', 'B_LEG', 'R_DISTANCE', 'B_DISTANCE',\n",
      "       'R_CLINCH', 'B_CLINCH', 'R_GROUND', 'B_GROUND', 'win_by', 'last_round',\n",
      "       'last_round_time', 'Format', 'Referee', 'date', 'location', 'Winner'],\n",
      "      dtype='object')\n",
      "0         2 of 3\n",
      "1         6 of 7\n",
      "2         4 of 8\n",
      "3         1 of 1\n",
      "4       14 of 21\n",
      "          ...   \n",
      "6054      1 of 1\n",
      "6055      0 of 0\n",
      "6056      1 of 1\n",
      "6057      1 of 1\n",
      "6058      0 of 0\n",
      "Name: R_BODY, Length: 6059, dtype: object\n",
      "NaN values in Referee = 32\n",
      "NaN values in Winner = 110\n",
      "Number of NaN in fighter_name : 0\n",
      "Number of NaN in Height : 0\n",
      "Number of NaN in Weight : 0\n",
      "Number of NaN in Reach : 0\n",
      "Number of NaN in Stance : 0\n",
      "Number of NaN in DOB : 0\n",
      "Number of NaN in SLpM : 0\n",
      "Number of NaN in Str_Acc : 0\n",
      "Number of NaN in SApM : 0\n",
      "Number of NaN in Str_Def : 0\n",
      "Number of NaN in TD_Avg : 0\n",
      "Number of NaN in TD_Acc : 0\n",
      "Number of NaN in TD_Def : 0\n",
      "Number of NaN in Sub_Avg : 0\n"
     ]
    },
    {
     "ename": "KeyError",
     "evalue": "\"None of ['index'] are in the columns\"",
     "output_type": "error",
     "traceback": [
      "\u001b[0;31m---------------------------------------------------------------------------\u001b[0m",
      "\u001b[0;31mKeyError\u001b[0m                                  Traceback (most recent call last)",
      "\u001b[0;32m~/Desktop/UFC-Predictions-master/notebooks/Inferencing/preprocessing_and_EDA-1.py\u001b[0m in \u001b[0;36m<module>\u001b[0;34m\u001b[0m\n\u001b[1;32m    695\u001b[0m \u001b[0;34m\u001b[0m\u001b[0m\n\u001b[1;32m    696\u001b[0m \u001b[0mtemp_blue_frame\u001b[0m \u001b[0;34m=\u001b[0m \u001b[0mtemp_blue_frame\u001b[0m\u001b[0;34m.\u001b[0m\u001b[0mmerge\u001b[0m\u001b[0;34m(\u001b[0m\u001b[0mfighter_details\u001b[0m\u001b[0;34m,\u001b[0m \u001b[0mleft_on\u001b[0m\u001b[0;34m=\u001b[0m\u001b[0;34m'hero_fighter'\u001b[0m\u001b[0;34m,\u001b[0m \u001b[0mright_on\u001b[0m\u001b[0;34m=\u001b[0m\u001b[0;34m'fighter_name'\u001b[0m\u001b[0;34m,\u001b[0m \u001b[0mhow\u001b[0m\u001b[0;34m=\u001b[0m\u001b[0;34m'left'\u001b[0m\u001b[0;34m)\u001b[0m\u001b[0;34m\u001b[0m\u001b[0;34m\u001b[0m\u001b[0m\n\u001b[0;32m--> 697\u001b[0;31m \u001b[0mtemp_blue_frame\u001b[0m\u001b[0;34m.\u001b[0m\u001b[0mset_index\u001b[0m\u001b[0;34m(\u001b[0m\u001b[0;34m'index'\u001b[0m\u001b[0;34m,\u001b[0m \u001b[0minplace\u001b[0m\u001b[0;34m=\u001b[0m\u001b[0;32mTrue\u001b[0m\u001b[0;34m)\u001b[0m\u001b[0;34m\u001b[0m\u001b[0;34m\u001b[0m\u001b[0m\n\u001b[0m\u001b[1;32m    698\u001b[0m \u001b[0;34m\u001b[0m\u001b[0m\n\u001b[1;32m    699\u001b[0m \u001b[0;34m\u001b[0m\u001b[0m\n",
      "\u001b[0;32m~/opt/anaconda3/lib/python3.8/site-packages/pandas/core/frame.py\u001b[0m in \u001b[0;36mset_index\u001b[0;34m(self, keys, drop, append, inplace, verify_integrity)\u001b[0m\n\u001b[1;32m   4722\u001b[0m \u001b[0;34m\u001b[0m\u001b[0m\n\u001b[1;32m   4723\u001b[0m         \u001b[0;32mif\u001b[0m \u001b[0mmissing\u001b[0m\u001b[0;34m:\u001b[0m\u001b[0;34m\u001b[0m\u001b[0;34m\u001b[0m\u001b[0m\n\u001b[0;32m-> 4724\u001b[0;31m             \u001b[0;32mraise\u001b[0m \u001b[0mKeyError\u001b[0m\u001b[0;34m(\u001b[0m\u001b[0;34mf\"None of {missing} are in the columns\"\u001b[0m\u001b[0;34m)\u001b[0m\u001b[0;34m\u001b[0m\u001b[0;34m\u001b[0m\u001b[0m\n\u001b[0m\u001b[1;32m   4725\u001b[0m \u001b[0;34m\u001b[0m\u001b[0m\n\u001b[1;32m   4726\u001b[0m         \u001b[0;32mif\u001b[0m \u001b[0minplace\u001b[0m\u001b[0;34m:\u001b[0m\u001b[0;34m\u001b[0m\u001b[0;34m\u001b[0m\u001b[0m\n",
      "\u001b[0;31mKeyError\u001b[0m: \"None of ['index'] are in the columns\""
     ]
    }
   ],
   "source": [
    "%run 'preprocessing_and_EDA-1.py' #reads total_fight_data.csv, fighter_details.csv, creates infdata.csv"
   ]
  },
  {
   "cell_type": "code",
   "execution_count": 4,
   "id": "improving-cancer",
   "metadata": {},
   "outputs": [
    {
     "name": "stdout",
     "output_type": "stream",
     "text": [
      "Nan in Referee: 32\n",
      "Nan in Winner: 24\n",
      "Nan in B_avg_KD: 1430\n",
      "Nan in B_avg_opp_KD: 1430\n",
      "Nan in B_avg_SIG_STR_pct: 1430\n",
      "Nan in B_avg_opp_SIG_STR_pct: 1430\n",
      "Nan in B_avg_TD_pct: 1430\n",
      "Nan in B_avg_opp_TD_pct: 1430\n",
      "Nan in B_avg_SUB_ATT: 1430\n",
      "Nan in B_avg_opp_SUB_ATT: 1430\n",
      "Nan in B_avg_REV: 1430\n",
      "Nan in B_avg_opp_REV: 1430\n",
      "Nan in B_avg_SIG_STR_att: 1430\n",
      "Nan in B_avg_SIG_STR_landed: 1430\n",
      "Nan in B_avg_opp_SIG_STR_att: 1430\n",
      "Nan in B_avg_opp_SIG_STR_landed: 1430\n",
      "Nan in B_avg_TOTAL_STR_att: 1430\n",
      "Nan in B_avg_TOTAL_STR_landed: 1430\n",
      "Nan in B_avg_opp_TOTAL_STR_att: 1430\n",
      "Nan in B_avg_opp_TOTAL_STR_landed: 1430\n",
      "Nan in B_avg_TD_att: 1430\n",
      "Nan in B_avg_TD_landed: 1430\n",
      "Nan in B_avg_opp_TD_att: 1430\n",
      "Nan in B_avg_opp_TD_landed: 1430\n",
      "Nan in B_avg_HEAD_att: 1430\n",
      "Nan in B_avg_HEAD_landed: 1430\n",
      "Nan in B_avg_opp_HEAD_att: 1430\n",
      "Nan in B_avg_opp_HEAD_landed: 1430\n",
      "Nan in B_avg_BODY_att: 1430\n",
      "Nan in B_avg_BODY_landed: 1430\n",
      "Nan in B_avg_opp_BODY_att: 1430\n",
      "Nan in B_avg_opp_BODY_landed: 1430\n",
      "Nan in B_avg_LEG_att: 1430\n",
      "Nan in B_avg_LEG_landed: 1430\n",
      "Nan in B_avg_opp_LEG_att: 1430\n",
      "Nan in B_avg_opp_LEG_landed: 1430\n",
      "Nan in B_avg_DISTANCE_att: 1430\n",
      "Nan in B_avg_DISTANCE_landed: 1430\n",
      "Nan in B_avg_opp_DISTANCE_att: 1430\n",
      "Nan in B_avg_opp_DISTANCE_landed: 1430\n",
      "Nan in B_avg_CLINCH_att: 1430\n",
      "Nan in B_avg_CLINCH_landed: 1430\n",
      "Nan in B_avg_opp_CLINCH_att: 1430\n",
      "Nan in B_avg_opp_CLINCH_landed: 1430\n",
      "Nan in B_avg_GROUND_att: 1430\n",
      "Nan in B_avg_GROUND_landed: 1430\n",
      "Nan in B_avg_opp_GROUND_att: 1430\n",
      "Nan in B_avg_opp_GROUND_landed: 1430\n",
      "Nan in B_avg_CTRL_time(seconds): 1430\n",
      "Nan in B_avg_opp_CTRL_time(seconds): 1430\n",
      "Nan in B_total_time_fought(seconds): 1430\n",
      "Nan in B_index_y: 6059\n",
      "Nan in B_Stance: 6059\n",
      "Nan in B_Height_cms: 6059\n",
      "Nan in B_Reach_cms: 6059\n",
      "Nan in B_Weight_lbs: 6059\n",
      "Nan in R_avg_KD: 725\n",
      "Nan in R_avg_opp_KD: 725\n",
      "Nan in R_avg_SIG_STR_pct: 725\n",
      "Nan in R_avg_opp_SIG_STR_pct: 725\n",
      "Nan in R_avg_TD_pct: 725\n",
      "Nan in R_avg_opp_TD_pct: 725\n",
      "Nan in R_avg_SUB_ATT: 725\n",
      "Nan in R_avg_opp_SUB_ATT: 725\n",
      "Nan in R_avg_REV: 725\n",
      "Nan in R_avg_opp_REV: 725\n",
      "Nan in R_avg_SIG_STR_att: 725\n",
      "Nan in R_avg_SIG_STR_landed: 725\n",
      "Nan in R_avg_opp_SIG_STR_att: 725\n",
      "Nan in R_avg_opp_SIG_STR_landed: 725\n",
      "Nan in R_avg_TOTAL_STR_att: 725\n",
      "Nan in R_avg_TOTAL_STR_landed: 725\n",
      "Nan in R_avg_opp_TOTAL_STR_att: 725\n",
      "Nan in R_avg_opp_TOTAL_STR_landed: 725\n",
      "Nan in R_avg_TD_att: 725\n",
      "Nan in R_avg_TD_landed: 725\n",
      "Nan in R_avg_opp_TD_att: 725\n",
      "Nan in R_avg_opp_TD_landed: 725\n",
      "Nan in R_avg_HEAD_att: 725\n",
      "Nan in R_avg_HEAD_landed: 725\n",
      "Nan in R_avg_opp_HEAD_att: 725\n",
      "Nan in R_avg_opp_HEAD_landed: 725\n",
      "Nan in R_avg_BODY_att: 725\n",
      "Nan in R_avg_BODY_landed: 725\n",
      "Nan in R_avg_opp_BODY_att: 725\n",
      "Nan in R_avg_opp_BODY_landed: 725\n",
      "Nan in R_avg_LEG_att: 725\n",
      "Nan in R_avg_LEG_landed: 725\n",
      "Nan in R_avg_opp_LEG_att: 725\n",
      "Nan in R_avg_opp_LEG_landed: 725\n",
      "Nan in R_avg_DISTANCE_att: 725\n",
      "Nan in R_avg_DISTANCE_landed: 725\n",
      "Nan in R_avg_opp_DISTANCE_att: 725\n",
      "Nan in R_avg_opp_DISTANCE_landed: 725\n",
      "Nan in R_avg_CLINCH_att: 725\n",
      "Nan in R_avg_CLINCH_landed: 725\n",
      "Nan in R_avg_opp_CLINCH_att: 725\n",
      "Nan in R_avg_opp_CLINCH_landed: 725\n",
      "Nan in R_avg_GROUND_att: 725\n",
      "Nan in R_avg_GROUND_landed: 725\n",
      "Nan in R_avg_opp_GROUND_att: 725\n",
      "Nan in R_avg_opp_GROUND_landed: 725\n",
      "Nan in R_avg_CTRL_time(seconds): 725\n",
      "Nan in R_avg_opp_CTRL_time(seconds): 725\n",
      "Nan in R_total_time_fought(seconds): 725\n",
      "Nan in R_index_y: 6059\n",
      "Nan in R_Stance: 6059\n",
      "Nan in R_Height_cms: 6059\n",
      "Nan in R_Reach_cms: 6059\n",
      "Nan in R_Weight_lbs: 6059\n"
     ]
    },
    {
     "name": "stderr",
     "output_type": "stream",
     "text": [
      "/Users/justinmilner/opt/anaconda3/lib/python3.8/site-packages/seaborn/_decorators.py:36: FutureWarning: Pass the following variables as keyword args: x, y. From version 0.12, the only valid positional argument will be `data`, and passing other arguments without an explicit keyword will result in an error or misinterpretation.\n",
      "  warnings.warn(\n"
     ]
    },
    {
     "name": "stdout",
     "output_type": "stream",
     "text": [
      "Nan in Winner: 24\n",
      "Nan in B_index_y: 6059\n",
      "Nan in B_Height_cms: 6059\n",
      "Nan in B_Reach_cms: 6059\n",
      "Nan in B_Weight_lbs: 6059\n",
      "Nan in R_index_y: 6059\n",
      "Nan in R_Height_cms: 6059\n",
      "Nan in R_Reach_cms: 6059\n",
      "Nan in R_Weight_lbs: 6059\n"
     ]
    },
    {
     "data": {
      "image/png": "[encoded data removed]",
      "text/plain": [
       "<Figure size 360x360 with 1 Axes>"
      ]
     },
     "metadata": {},
     "output_type": "display_data"
    }
   ],
   "source": [
    "%run 'preprocessing_and_EDA-2.py' #reads infdata.csv, creates infdata_stage1.csv"
   ]
  },
  {
   "cell_type": "code",
   "execution_count": 11,
   "id": "extra-intranet",
   "metadata": {},
   "outputs": [
    {
     "ename": "ValueError",
     "evalue": "Input contains NaN, infinity or a value too large for dtype('float64').",
     "output_type": "error",
     "traceback": [
      "\u001b[0;31m---------------------------------------------------------------------------\u001b[0m",
      "\u001b[0;31mValueError\u001b[0m                                Traceback (most recent call last)",
      "\u001b[0;32m~/Desktop/UFC-Predictions-master/notebooks/Inferencing/JMFeatureSelection.py\u001b[0m in \u001b[0;36m<module>\u001b[0;34m\u001b[0m\n\u001b[1;32m     45\u001b[0m \u001b[0;34m\u001b[0m\u001b[0m\n\u001b[1;32m     46\u001b[0m \u001b[0;34m\u001b[0m\u001b[0m\n\u001b[0;32m---> 47\u001b[0;31m \u001b[0mfit\u001b[0m \u001b[0;34m=\u001b[0m \u001b[0mbestfeatures\u001b[0m\u001b[0;34m.\u001b[0m\u001b[0mfit\u001b[0m\u001b[0;34m(\u001b[0m\u001b[0mX\u001b[0m\u001b[0;34m,\u001b[0m\u001b[0my\u001b[0m\u001b[0;34m)\u001b[0m\u001b[0;34m\u001b[0m\u001b[0;34m\u001b[0m\u001b[0m\n\u001b[0m\u001b[1;32m     48\u001b[0m \u001b[0mdfscores\u001b[0m \u001b[0;34m=\u001b[0m \u001b[0mpd\u001b[0m\u001b[0;34m.\u001b[0m\u001b[0mDataFrame\u001b[0m\u001b[0;34m(\u001b[0m\u001b[0mfit\u001b[0m\u001b[0;34m.\u001b[0m\u001b[0mscores_\u001b[0m\u001b[0;34m)\u001b[0m\u001b[0;34m\u001b[0m\u001b[0;34m\u001b[0m\u001b[0m\n\u001b[1;32m     49\u001b[0m \u001b[0mdfcolumns\u001b[0m \u001b[0;34m=\u001b[0m \u001b[0mpd\u001b[0m\u001b[0;34m.\u001b[0m\u001b[0mDataFrame\u001b[0m\u001b[0;34m(\u001b[0m\u001b[0mX\u001b[0m\u001b[0;34m.\u001b[0m\u001b[0mcolumns\u001b[0m\u001b[0;34m)\u001b[0m\u001b[0;34m\u001b[0m\u001b[0;34m\u001b[0m\u001b[0m\n",
      "\u001b[0;32m~/opt/anaconda3/lib/python3.8/site-packages/sklearn/feature_selection/_univariate_selection.py\u001b[0m in \u001b[0;36mfit\u001b[0;34m(self, X, y)\u001b[0m\n\u001b[1;32m    341\u001b[0m         \u001b[0mself\u001b[0m \u001b[0;34m:\u001b[0m \u001b[0mobject\u001b[0m\u001b[0;34m\u001b[0m\u001b[0;34m\u001b[0m\u001b[0m\n\u001b[1;32m    342\u001b[0m         \"\"\"\n\u001b[0;32m--> 343\u001b[0;31m         X, y = self._validate_data(X, y, accept_sparse=['csr', 'csc'],\n\u001b[0m\u001b[1;32m    344\u001b[0m                                    multi_output=True)\n\u001b[1;32m    345\u001b[0m \u001b[0;34m\u001b[0m\u001b[0m\n",
      "\u001b[0;32m~/opt/anaconda3/lib/python3.8/site-packages/sklearn/base.py\u001b[0m in \u001b[0;36m_validate_data\u001b[0;34m(self, X, y, reset, validate_separately, **check_params)\u001b[0m\n\u001b[1;32m    431\u001b[0m                 \u001b[0my\u001b[0m \u001b[0;34m=\u001b[0m \u001b[0mcheck_array\u001b[0m\u001b[0;34m(\u001b[0m\u001b[0my\u001b[0m\u001b[0;34m,\u001b[0m \u001b[0;34m**\u001b[0m\u001b[0mcheck_y_params\u001b[0m\u001b[0;34m)\u001b[0m\u001b[0;34m\u001b[0m\u001b[0;34m\u001b[0m\u001b[0m\n\u001b[1;32m    432\u001b[0m             \u001b[0;32melse\u001b[0m\u001b[0;34m:\u001b[0m\u001b[0;34m\u001b[0m\u001b[0;34m\u001b[0m\u001b[0m\n\u001b[0;32m--> 433\u001b[0;31m                 \u001b[0mX\u001b[0m\u001b[0;34m,\u001b[0m \u001b[0my\u001b[0m \u001b[0;34m=\u001b[0m \u001b[0mcheck_X_y\u001b[0m\u001b[0;34m(\u001b[0m\u001b[0mX\u001b[0m\u001b[0;34m,\u001b[0m \u001b[0my\u001b[0m\u001b[0;34m,\u001b[0m \u001b[0;34m**\u001b[0m\u001b[0mcheck_params\u001b[0m\u001b[0;34m)\u001b[0m\u001b[0;34m\u001b[0m\u001b[0;34m\u001b[0m\u001b[0m\n\u001b[0m\u001b[1;32m    434\u001b[0m             \u001b[0mout\u001b[0m \u001b[0;34m=\u001b[0m \u001b[0mX\u001b[0m\u001b[0;34m,\u001b[0m \u001b[0my\u001b[0m\u001b[0;34m\u001b[0m\u001b[0;34m\u001b[0m\u001b[0m\n\u001b[1;32m    435\u001b[0m \u001b[0;34m\u001b[0m\u001b[0m\n",
      "\u001b[0;32m~/opt/anaconda3/lib/python3.8/site-packages/sklearn/utils/validation.py\u001b[0m in \u001b[0;36minner_f\u001b[0;34m(*args, **kwargs)\u001b[0m\n\u001b[1;32m     61\u001b[0m             \u001b[0mextra_args\u001b[0m \u001b[0;34m=\u001b[0m \u001b[0mlen\u001b[0m\u001b[0;34m(\u001b[0m\u001b[0margs\u001b[0m\u001b[0;34m)\u001b[0m \u001b[0;34m-\u001b[0m \u001b[0mlen\u001b[0m\u001b[0;34m(\u001b[0m\u001b[0mall_args\u001b[0m\u001b[0;34m)\u001b[0m\u001b[0;34m\u001b[0m\u001b[0;34m\u001b[0m\u001b[0m\n\u001b[1;32m     62\u001b[0m             \u001b[0;32mif\u001b[0m \u001b[0mextra_args\u001b[0m \u001b[0;34m<=\u001b[0m \u001b[0;36m0\u001b[0m\u001b[0;34m:\u001b[0m\u001b[0;34m\u001b[0m\u001b[0;34m\u001b[0m\u001b[0m\n\u001b[0;32m---> 63\u001b[0;31m                 \u001b[0;32mreturn\u001b[0m \u001b[0mf\u001b[0m\u001b[0;34m(\u001b[0m\u001b[0;34m*\u001b[0m\u001b[0margs\u001b[0m\u001b[0;34m,\u001b[0m \u001b[0;34m**\u001b[0m\u001b[0mkwargs\u001b[0m\u001b[0;34m)\u001b[0m\u001b[0;34m\u001b[0m\u001b[0;34m\u001b[0m\u001b[0m\n\u001b[0m\u001b[1;32m     64\u001b[0m \u001b[0;34m\u001b[0m\u001b[0m\n\u001b[1;32m     65\u001b[0m             \u001b[0;31m# extra_args > 0\u001b[0m\u001b[0;34m\u001b[0m\u001b[0;34m\u001b[0m\u001b[0;34m\u001b[0m\u001b[0m\n",
      "\u001b[0;32m~/opt/anaconda3/lib/python3.8/site-packages/sklearn/utils/validation.py\u001b[0m in \u001b[0;36mcheck_X_y\u001b[0;34m(X, y, accept_sparse, accept_large_sparse, dtype, order, copy, force_all_finite, ensure_2d, allow_nd, multi_output, ensure_min_samples, ensure_min_features, y_numeric, estimator)\u001b[0m\n\u001b[1;32m    812\u001b[0m         \u001b[0;32mraise\u001b[0m \u001b[0mValueError\u001b[0m\u001b[0;34m(\u001b[0m\u001b[0;34m\"y cannot be None\"\u001b[0m\u001b[0;34m)\u001b[0m\u001b[0;34m\u001b[0m\u001b[0;34m\u001b[0m\u001b[0m\n\u001b[1;32m    813\u001b[0m \u001b[0;34m\u001b[0m\u001b[0m\n\u001b[0;32m--> 814\u001b[0;31m     X = check_array(X, accept_sparse=accept_sparse,\n\u001b[0m\u001b[1;32m    815\u001b[0m                     \u001b[0maccept_large_sparse\u001b[0m\u001b[0;34m=\u001b[0m\u001b[0maccept_large_sparse\u001b[0m\u001b[0;34m,\u001b[0m\u001b[0;34m\u001b[0m\u001b[0;34m\u001b[0m\u001b[0m\n\u001b[1;32m    816\u001b[0m                     \u001b[0mdtype\u001b[0m\u001b[0;34m=\u001b[0m\u001b[0mdtype\u001b[0m\u001b[0;34m,\u001b[0m \u001b[0morder\u001b[0m\u001b[0;34m=\u001b[0m\u001b[0morder\u001b[0m\u001b[0;34m,\u001b[0m \u001b[0mcopy\u001b[0m\u001b[0;34m=\u001b[0m\u001b[0mcopy\u001b[0m\u001b[0;34m,\u001b[0m\u001b[0;34m\u001b[0m\u001b[0;34m\u001b[0m\u001b[0m\n",
      "\u001b[0;32m~/opt/anaconda3/lib/python3.8/site-packages/sklearn/utils/validation.py\u001b[0m in \u001b[0;36minner_f\u001b[0;34m(*args, **kwargs)\u001b[0m\n\u001b[1;32m     61\u001b[0m             \u001b[0mextra_args\u001b[0m \u001b[0;34m=\u001b[0m \u001b[0mlen\u001b[0m\u001b[0;34m(\u001b[0m\u001b[0margs\u001b[0m\u001b[0;34m)\u001b[0m \u001b[0;34m-\u001b[0m \u001b[0mlen\u001b[0m\u001b[0;34m(\u001b[0m\u001b[0mall_args\u001b[0m\u001b[0;34m)\u001b[0m\u001b[0;34m\u001b[0m\u001b[0;34m\u001b[0m\u001b[0m\n\u001b[1;32m     62\u001b[0m             \u001b[0;32mif\u001b[0m \u001b[0mextra_args\u001b[0m \u001b[0;34m<=\u001b[0m \u001b[0;36m0\u001b[0m\u001b[0;34m:\u001b[0m\u001b[0;34m\u001b[0m\u001b[0;34m\u001b[0m\u001b[0m\n\u001b[0;32m---> 63\u001b[0;31m                 \u001b[0;32mreturn\u001b[0m \u001b[0mf\u001b[0m\u001b[0;34m(\u001b[0m\u001b[0;34m*\u001b[0m\u001b[0margs\u001b[0m\u001b[0;34m,\u001b[0m \u001b[0;34m**\u001b[0m\u001b[0mkwargs\u001b[0m\u001b[0;34m)\u001b[0m\u001b[0;34m\u001b[0m\u001b[0;34m\u001b[0m\u001b[0m\n\u001b[0m\u001b[1;32m     64\u001b[0m \u001b[0;34m\u001b[0m\u001b[0m\n\u001b[1;32m     65\u001b[0m             \u001b[0;31m# extra_args > 0\u001b[0m\u001b[0;34m\u001b[0m\u001b[0;34m\u001b[0m\u001b[0;34m\u001b[0m\u001b[0m\n",
      "\u001b[0;32m~/opt/anaconda3/lib/python3.8/site-packages/sklearn/utils/validation.py\u001b[0m in \u001b[0;36mcheck_array\u001b[0;34m(array, accept_sparse, accept_large_sparse, dtype, order, copy, force_all_finite, ensure_2d, allow_nd, ensure_min_samples, ensure_min_features, estimator)\u001b[0m\n\u001b[1;32m    661\u001b[0m \u001b[0;34m\u001b[0m\u001b[0m\n\u001b[1;32m    662\u001b[0m         \u001b[0;32mif\u001b[0m \u001b[0mforce_all_finite\u001b[0m\u001b[0;34m:\u001b[0m\u001b[0;34m\u001b[0m\u001b[0;34m\u001b[0m\u001b[0m\n\u001b[0;32m--> 663\u001b[0;31m             _assert_all_finite(array,\n\u001b[0m\u001b[1;32m    664\u001b[0m                                allow_nan=force_all_finite == 'allow-nan')\n\u001b[1;32m    665\u001b[0m \u001b[0;34m\u001b[0m\u001b[0m\n",
      "\u001b[0;32m~/opt/anaconda3/lib/python3.8/site-packages/sklearn/utils/validation.py\u001b[0m in \u001b[0;36m_assert_all_finite\u001b[0;34m(X, allow_nan, msg_dtype)\u001b[0m\n\u001b[1;32m    101\u001b[0m                 not allow_nan and not np.isfinite(X).all()):\n\u001b[1;32m    102\u001b[0m             \u001b[0mtype_err\u001b[0m \u001b[0;34m=\u001b[0m \u001b[0;34m'infinity'\u001b[0m \u001b[0;32mif\u001b[0m \u001b[0mallow_nan\u001b[0m \u001b[0;32melse\u001b[0m \u001b[0;34m'NaN, infinity'\u001b[0m\u001b[0;34m\u001b[0m\u001b[0;34m\u001b[0m\u001b[0m\n\u001b[0;32m--> 103\u001b[0;31m             raise ValueError(\n\u001b[0m\u001b[1;32m    104\u001b[0m                     \u001b[0mmsg_err\u001b[0m\u001b[0;34m.\u001b[0m\u001b[0mformat\u001b[0m\u001b[0;34m\u001b[0m\u001b[0;34m\u001b[0m\u001b[0m\n\u001b[1;32m    105\u001b[0m                     (type_err,\n",
      "\u001b[0;31mValueError\u001b[0m: Input contains NaN, infinity or a value too large for dtype('float64')."
     ]
    }
   ],
   "source": [
    "%run 'JMFeatureSelection.py' #reads infdata_stage1.csv, creates infdata_stage2.csv"
   ]
  },
  {
   "cell_type": "code",
   "execution_count": null,
   "id": "french-finger",
   "metadata": {},
   "outputs": [],
   "source": [
    "%run 'JMPreprocessingDeleteRowNulls.py' #reads infdata_stage2.csv, creates infdata_stage3.csv"
   ]
  },
  {
   "cell_type": "markdown",
   "id": "australian-medicaid",
   "metadata": {},
   "source": [
    "# Building the classifier"
   ]
  },
  {
   "cell_type": "markdown",
   "id": "southern-definition",
   "metadata": {},
   "source": [
    "### Training"
   ]
  },
  {
   "cell_type": "code",
   "execution_count": null,
   "id": "weird-glucose",
   "metadata": {},
   "outputs": [],
   "source": [
    "df = pd.read_csv('../../data/infdata_stage3.csv')"
   ]
  },
  {
   "cell_type": "code",
   "execution_count": null,
   "id": "willing-natural",
   "metadata": {},
   "outputs": [],
   "source": [
    "df.drop(columns=['R_DOB','B_DOB'], inplace=True)"
   ]
  },
  {
   "cell_type": "code",
   "execution_count": null,
   "id": "female-pakistan",
   "metadata": {},
   "outputs": [],
   "source": [
    "numberOfFights = 10\n",
    "inf_df = df.head(numberOfFights)\n",
    "inf_df.drop(columns = ['Winner'], inplace=True)\n",
    "df = df.iloc[numberOfFights:]"
   ]
  },
  {
   "cell_type": "code",
   "execution_count": null,
   "id": "official-blackjack",
   "metadata": {},
   "outputs": [],
   "source": [
    "#splitting up data into training/testing\n",
    "y = df['Winner']\n",
    "X = df.drop(columns = 'Winner')\n",
    "\n",
    "X, X_test, y, y_test = train_test_split(X, y, test_size=0.05, random_state=43)"
   ]
  },
  {
   "cell_type": "code",
   "execution_count": null,
   "id": "burning-orientation",
   "metadata": {},
   "outputs": [],
   "source": [
    "# define the model with default hyperparameters\n",
    "model = AdaBoostClassifier()\n",
    "# define the grid of values to search\n",
    "grid = dict()\n",
    "grid['n_estimators'] = [500]\n",
    "grid['learning_rate'] = [0.01, 0.1]"
   ]
  },
  {
   "cell_type": "code",
   "execution_count": null,
   "id": "favorite-massachusetts",
   "metadata": {},
   "outputs": [],
   "source": [
    "# define the evaluation procedure\n",
    "cv = RepeatedStratifiedKFold(n_splits=8, n_repeats=3, random_state=1)\n",
    "# define the grid search procedure\n",
    "grid_search = GridSearchCV(estimator=model, param_grid=grid, n_jobs=-1, cv=cv, scoring='roc_auc')\n",
    "# execute the grid search\n",
    "grid_result = grid_search.fit(X, y)"
   ]
  },
  {
   "cell_type": "code",
   "execution_count": null,
   "id": "optimum-wilderness",
   "metadata": {},
   "outputs": [],
   "source": [
    "# summarize the best score and configuration\n",
    "print(\"Best: %f using %s\" % (grid_result.best_score_, grid_result.best_params_))"
   ]
  },
  {
   "cell_type": "code",
   "execution_count": null,
   "id": "exposed-anderson",
   "metadata": {},
   "outputs": [],
   "source": [
    "# summarize all scores that were evaluated\n",
    "means = grid_result.cv_results_['mean_test_score']\n",
    "stds = grid_result.cv_results_['std_test_score']\n",
    "params = grid_result.cv_results_['params']\n",
    "for mean, stdev, param in zip(means, stds, params):\n",
    "    print(\"%f (%f) with: %r\" % (mean, stdev, param))"
   ]
  },
  {
   "cell_type": "code",
   "execution_count": null,
   "id": "fleet-shopping",
   "metadata": {},
   "outputs": [],
   "source": [
    "model = AdaBoostClassifier(n_estimators=500, learning_rate=.1)\n",
    "model.fit(X, y)"
   ]
  },
  {
   "cell_type": "code",
   "execution_count": null,
   "id": "adaptive-scout",
   "metadata": {},
   "outputs": [],
   "source": [
    "#getting test results\n",
    "y_pred=model.predict(X_test)\n",
    "print(confusion_matrix(y_test, y_pred))\n",
    "model.score(X_test, y_test)"
   ]
  },
  {
   "cell_type": "markdown",
   "id": "agricultural-panel",
   "metadata": {},
   "source": [
    "# Exploring the relation between the algorithm's confidence and accuracy"
   ]
  },
  {
   "cell_type": "code",
   "execution_count": null,
   "id": "joined-climate",
   "metadata": {},
   "outputs": [],
   "source": [
    "#creating a list of correct/incorrect\n",
    "correctOrNot = [] #0 is correct, 1 is not\n",
    "for prediction, truth in zip(y_pred, y_test):\n",
    "    if prediction != truth:\n",
    "        correctOrNot.append(1)\n",
    "    else:\n",
    "        correctOrNot.append(0)\n"
   ]
  },
  {
   "cell_type": "code",
   "execution_count": null,
   "id": "thousand-missile",
   "metadata": {},
   "outputs": [],
   "source": [
    "#creating a list of correct/incorrect and confidence\n",
    "Probabilities = model.predict_proba(X_test)\n",
    "RelativeConfidence = []\n",
    "for row in range(len(Probabilities)):\n",
    "    RelativeConfidence.append(abs(Probabilities[row][0] - Probabilities[row][1]))\n",
    "from statistics import mean  \n",
    "plt.hist(RelativeConfidence, bins=60)"
   ]
  },
  {
   "cell_type": "code",
   "execution_count": null,
   "id": "premier-freeze",
   "metadata": {},
   "outputs": [],
   "source": [
    "#plt.plot(RelativeConfidence,correctOrNot)\n",
    "plt.figure(figsize=(20,5))\n",
    "plt.xlim([0.0, .05])\n",
    "plt.scatter(RelativeConfidence, np.zeros_like(RelativeConfidence) + 0. , c=correctOrNot)\n"
   ]
  },
  {
   "cell_type": "code",
   "execution_count": null,
   "id": "express-crack",
   "metadata": {},
   "outputs": [],
   "source": [
    "confidenceOfCorrect = []\n",
    "confidenceOfIncorrect = []\n",
    "for index in range(len(correctOrNot)):\n",
    "    if correctOrNot[index] == 0:\n",
    "        confidenceOfCorrect.append(RelativeConfidence[index])\n",
    "    else:\n",
    "        confidenceOfIncorrect.append(RelativeConfidence[index])"
   ]
  },
  {
   "cell_type": "code",
   "execution_count": null,
   "id": "variable-field",
   "metadata": {
    "scrolled": true
   },
   "outputs": [],
   "source": [
    "#bar graph displaying the percent correct within each bin\n",
    "\n",
    "correcthist, bins = np.histogram(confidenceOfCorrect, bins=60)\n",
    "incorrecthist, bins = np.histogram(confidenceOfIncorrect, bins=bins)\n",
    "percentCorrectHist = []\n",
    "for index in range(len(correcthist)):\n",
    "    #print(incorrecthist)\n",
    "    if (correcthist[index] + incorrecthist[index]) == 0:\n",
    "        percentCorrectHist.append(0)\n",
    "    else:\n",
    "        percentCorrectHist.append(correcthist[index] / (correcthist[index] + incorrecthist[index]))\n",
    "\n",
    "\n",
    "width = 0.7 * (bins[1] - bins[0])\n",
    "center = (bins[:-1] + bins[1:]) / 2\n",
    "plt.bar(center, percentCorrectHist, align='center', width=width)\n",
    "plt.figure(figsize=(30,5))\n",
    "plt.show()\n",
    "\n",
    "#here, the ideal threshold seems to be around .0135 "
   ]
  },
  {
   "cell_type": "code",
   "execution_count": null,
   "id": "suspected-nowhere",
   "metadata": {},
   "outputs": [],
   "source": [
    "model.predict(inf_df)"
   ]
  },
  {
   "cell_type": "code",
   "execution_count": null,
   "id": "realistic-vietnam",
   "metadata": {},
   "outputs": [],
   "source": [
    "#Blue is 1, Red is 0\n",
    "Probabilities = model.predict_proba(inf_df)\n",
    "Probabilities"
   ]
  },
  {
   "cell_type": "code",
   "execution_count": null,
   "id": "lyric-designer",
   "metadata": {},
   "outputs": [],
   "source": [
    "RelativeConfidence = []\n",
    "for row in range(len(Probabilities)):\n",
    "    RelativeConfidence.append(abs(Probabilities[row][0] - Probabilities[row][1]))\n",
    "    \n",
    "RelativeConfidence\n"
   ]
  },
  {
   "cell_type": "markdown",
   "id": "public-affiliation",
   "metadata": {},
   "source": [
    "### Today, March 27 2021 I'm choosing a threshold of .0135.\n",
    "#### This means that no bets are to be made"
   ]
  },
  {
   "cell_type": "code",
   "execution_count": null,
   "id": "executed-breach",
   "metadata": {},
   "outputs": [],
   "source": []
  },
  {
   "cell_type": "code",
   "execution_count": null,
   "id": "intermediate-camcorder",
   "metadata": {},
   "outputs": [],
   "source": []
  },
  {
   "cell_type": "code",
   "execution_count": null,
   "id": "great-worse",
   "metadata": {},
   "outputs": [],
   "source": []
  }
 ],
 "metadata": {
  "kernelspec": {
   "display_name": "Python 3",
   "language": "python",
   "name": "python3"
  },
  "language_info": {
   "codemirror_mode": {
    "name": "ipython",
    "version": 3
   },
   "file_extension": ".py",
   "mimetype": "text/x-python",
   "name": "python",
   "nbconvert_exporter": "python",
   "pygments_lexer": "ipython3",
   "version": "3.8.3"
  }
 },
 "nbformat": 4,
 "nbformat_minor": 5
}
