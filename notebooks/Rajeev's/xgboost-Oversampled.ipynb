{
 "cells": [
  {
   "cell_type": "code",
   "execution_count": 1,
   "metadata": {},
   "outputs": [],
   "source": [
    "import pandas as pd\n",
    "import numpy as np\n",
    "import matplotlib.pyplot as plt\n",
    "import pickle\n",
    "from xgboost import XGBClassifier\n",
    "from sklearn.preprocessing import LabelEncoder\n",
    "import xgboost as xgb\n",
    "from sklearn.model_selection import train_test_split\n",
    "from sklearn.preprocessing import StandardScaler\n",
    "from sklearn.metrics import accuracy_score, classification_report,confusion_matrix, roc_auc_score\n",
    "from sklearn.utils.multiclass import unique_labels\n",
    "from sklearn.model_selection import GridSearchCV, RandomizedSearchCV\n",
    "\n",
    "%matplotlib inline"
   ]
  },
  {
   "cell_type": "code",
   "execution_count": 2,
   "metadata": {},
   "outputs": [],
   "source": [
    "df = pd.read_csv('data/preprocessed_data.csv')"
   ]
  },
  {
   "cell_type": "code",
   "execution_count": 3,
   "metadata": {},
   "outputs": [
    {
     "data": {
      "text/html": [
       "<div>\n",
       "<style scoped>\n",
       "    .dataframe tbody tr th:only-of-type {\n",
       "        vertical-align: middle;\n",
       "    }\n",
       "\n",
       "    .dataframe tbody tr th {\n",
       "        vertical-align: top;\n",
       "    }\n",
       "\n",
       "    .dataframe thead th {\n",
       "        text-align: right;\n",
       "    }\n",
       "</style>\n",
       "<table border=\"1\" class=\"dataframe\">\n",
       "  <thead>\n",
       "    <tr style=\"text-align: right;\">\n",
       "      <th></th>\n",
       "      <th>Winner</th>\n",
       "      <th>title_bout</th>\n",
       "      <th>no_of_rounds</th>\n",
       "      <th>B_current_lose_streak</th>\n",
       "      <th>B_current_win_streak</th>\n",
       "      <th>B_draw</th>\n",
       "      <th>B_avg_BODY_att</th>\n",
       "      <th>B_avg_BODY_landed</th>\n",
       "      <th>B_avg_CLINCH_att</th>\n",
       "      <th>B_avg_CLINCH_landed</th>\n",
       "      <th>...</th>\n",
       "      <th>B_Stance_Open Stance</th>\n",
       "      <th>B_Stance_Orthodox</th>\n",
       "      <th>B_Stance_Sideways</th>\n",
       "      <th>B_Stance_Southpaw</th>\n",
       "      <th>B_Stance_Switch</th>\n",
       "      <th>R_Stance_Open Stance</th>\n",
       "      <th>R_Stance_Orthodox</th>\n",
       "      <th>R_Stance_Sideways</th>\n",
       "      <th>R_Stance_Southpaw</th>\n",
       "      <th>R_Stance_Switch</th>\n",
       "    </tr>\n",
       "  </thead>\n",
       "  <tbody>\n",
       "    <tr>\n",
       "      <th>0</th>\n",
       "      <td>Red</td>\n",
       "      <td>True</td>\n",
       "      <td>5</td>\n",
       "      <td>0.0</td>\n",
       "      <td>4.0</td>\n",
       "      <td>0.0</td>\n",
       "      <td>9.200000</td>\n",
       "      <td>6.000000</td>\n",
       "      <td>0.200000</td>\n",
       "      <td>0.000000</td>\n",
       "      <td>...</td>\n",
       "      <td>0</td>\n",
       "      <td>1</td>\n",
       "      <td>0</td>\n",
       "      <td>0</td>\n",
       "      <td>0</td>\n",
       "      <td>0</td>\n",
       "      <td>1</td>\n",
       "      <td>0</td>\n",
       "      <td>0</td>\n",
       "      <td>0</td>\n",
       "    </tr>\n",
       "    <tr>\n",
       "      <th>1</th>\n",
       "      <td>Red</td>\n",
       "      <td>True</td>\n",
       "      <td>5</td>\n",
       "      <td>0.0</td>\n",
       "      <td>3.0</td>\n",
       "      <td>0.0</td>\n",
       "      <td>14.600000</td>\n",
       "      <td>9.100000</td>\n",
       "      <td>11.800000</td>\n",
       "      <td>7.300000</td>\n",
       "      <td>...</td>\n",
       "      <td>0</td>\n",
       "      <td>1</td>\n",
       "      <td>0</td>\n",
       "      <td>0</td>\n",
       "      <td>0</td>\n",
       "      <td>0</td>\n",
       "      <td>0</td>\n",
       "      <td>0</td>\n",
       "      <td>1</td>\n",
       "      <td>0</td>\n",
       "    </tr>\n",
       "    <tr>\n",
       "      <th>2</th>\n",
       "      <td>Red</td>\n",
       "      <td>False</td>\n",
       "      <td>3</td>\n",
       "      <td>0.0</td>\n",
       "      <td>3.0</td>\n",
       "      <td>0.0</td>\n",
       "      <td>15.354839</td>\n",
       "      <td>11.322581</td>\n",
       "      <td>6.741935</td>\n",
       "      <td>4.387097</td>\n",
       "      <td>...</td>\n",
       "      <td>0</td>\n",
       "      <td>1</td>\n",
       "      <td>0</td>\n",
       "      <td>0</td>\n",
       "      <td>0</td>\n",
       "      <td>0</td>\n",
       "      <td>1</td>\n",
       "      <td>0</td>\n",
       "      <td>0</td>\n",
       "      <td>0</td>\n",
       "    </tr>\n",
       "    <tr>\n",
       "      <th>3</th>\n",
       "      <td>Blue</td>\n",
       "      <td>False</td>\n",
       "      <td>3</td>\n",
       "      <td>0.0</td>\n",
       "      <td>4.0</td>\n",
       "      <td>0.0</td>\n",
       "      <td>17.000000</td>\n",
       "      <td>14.000000</td>\n",
       "      <td>13.750000</td>\n",
       "      <td>11.000000</td>\n",
       "      <td>...</td>\n",
       "      <td>0</td>\n",
       "      <td>0</td>\n",
       "      <td>0</td>\n",
       "      <td>0</td>\n",
       "      <td>1</td>\n",
       "      <td>0</td>\n",
       "      <td>1</td>\n",
       "      <td>0</td>\n",
       "      <td>0</td>\n",
       "      <td>0</td>\n",
       "    </tr>\n",
       "    <tr>\n",
       "      <th>4</th>\n",
       "      <td>Blue</td>\n",
       "      <td>False</td>\n",
       "      <td>3</td>\n",
       "      <td>0.0</td>\n",
       "      <td>1.0</td>\n",
       "      <td>0.0</td>\n",
       "      <td>17.000000</td>\n",
       "      <td>14.500000</td>\n",
       "      <td>2.500000</td>\n",
       "      <td>2.000000</td>\n",
       "      <td>...</td>\n",
       "      <td>0</td>\n",
       "      <td>0</td>\n",
       "      <td>0</td>\n",
       "      <td>1</td>\n",
       "      <td>0</td>\n",
       "      <td>0</td>\n",
       "      <td>0</td>\n",
       "      <td>0</td>\n",
       "      <td>1</td>\n",
       "      <td>0</td>\n",
       "    </tr>\n",
       "  </tbody>\n",
       "</table>\n",
       "<p>5 rows × 161 columns</p>\n",
       "</div>"
      ],
      "text/plain": [
       "  Winner  title_bout  no_of_rounds  B_current_lose_streak  \\\n",
       "0    Red        True             5                    0.0   \n",
       "1    Red        True             5                    0.0   \n",
       "2    Red       False             3                    0.0   \n",
       "3   Blue       False             3                    0.0   \n",
       "4   Blue       False             3                    0.0   \n",
       "\n",
       "   B_current_win_streak  B_draw  B_avg_BODY_att  B_avg_BODY_landed  \\\n",
       "0                   4.0     0.0        9.200000           6.000000   \n",
       "1                   3.0     0.0       14.600000           9.100000   \n",
       "2                   3.0     0.0       15.354839          11.322581   \n",
       "3                   4.0     0.0       17.000000          14.000000   \n",
       "4                   1.0     0.0       17.000000          14.500000   \n",
       "\n",
       "   B_avg_CLINCH_att  B_avg_CLINCH_landed       ...         \\\n",
       "0          0.200000             0.000000       ...          \n",
       "1         11.800000             7.300000       ...          \n",
       "2          6.741935             4.387097       ...          \n",
       "3         13.750000            11.000000       ...          \n",
       "4          2.500000             2.000000       ...          \n",
       "\n",
       "   B_Stance_Open Stance  B_Stance_Orthodox  B_Stance_Sideways  \\\n",
       "0                     0                  1                  0   \n",
       "1                     0                  1                  0   \n",
       "2                     0                  1                  0   \n",
       "3                     0                  0                  0   \n",
       "4                     0                  0                  0   \n",
       "\n",
       "   B_Stance_Southpaw  B_Stance_Switch  R_Stance_Open Stance  \\\n",
       "0                  0                0                     0   \n",
       "1                  0                0                     0   \n",
       "2                  0                0                     0   \n",
       "3                  0                1                     0   \n",
       "4                  1                0                     0   \n",
       "\n",
       "   R_Stance_Orthodox  R_Stance_Sideways  R_Stance_Southpaw  R_Stance_Switch  \n",
       "0                  1                  0                  0                0  \n",
       "1                  0                  0                  1                0  \n",
       "2                  1                  0                  0                0  \n",
       "3                  1                  0                  0                0  \n",
       "4                  0                  0                  1                0  \n",
       "\n",
       "[5 rows x 161 columns]"
      ]
     },
     "execution_count": 3,
     "metadata": {},
     "output_type": "execute_result"
    }
   ],
   "source": [
    "df.head()"
   ]
  },
  {
   "cell_type": "markdown",
   "metadata": {},
   "source": [
    "### Normalizing data"
   ]
  },
  {
   "cell_type": "code",
   "execution_count": 4,
   "metadata": {},
   "outputs": [],
   "source": [
    "df_num = df.select_dtypes(include=[np.float, np.int])"
   ]
  },
  {
   "cell_type": "code",
   "execution_count": 5,
   "metadata": {},
   "outputs": [],
   "source": [
    "scaler = StandardScaler()\n",
    "\n",
    "df[list(df_num.columns)] = scaler.fit_transform(df[list(df_num.columns)])"
   ]
  },
  {
   "cell_type": "markdown",
   "metadata": {},
   "source": [
    "### Splitting into train, test"
   ]
  },
  {
   "cell_type": "code",
   "execution_count": 6,
   "metadata": {},
   "outputs": [],
   "source": [
    "y = df['Winner']\n",
    "label_encoder = LabelEncoder()\n",
    "label_encoder = label_encoder.fit(y)\n",
    "label_encoded_y = label_encoder.transform(y)\n",
    "\n",
    "X = df.drop(columns = 'Winner')\n",
    "\n",
    "X_train, X_test, y_train, y_test = train_test_split(X, label_encoded_y, test_size=0.1, random_state=41)"
   ]
  },
  {
   "cell_type": "markdown",
   "metadata": {},
   "source": [
    "### Fitting baseline Xgboost"
   ]
  },
  {
   "cell_type": "code",
   "execution_count": 7,
   "metadata": {},
   "outputs": [],
   "source": [
    "def plot_confusion(cm, classes):\n",
    "    fig, ax = plt.subplots()\n",
    "    im = ax.imshow(cm, interpolation='nearest', cmap=plt.cm.Blues)\n",
    "    ax.figure.colorbar(im, ax=ax)\n",
    "    # We want to show all ticks...\n",
    "    ax.set(xticks=np.arange(cm.shape[1]),\n",
    "           yticks=np.arange(cm.shape[0]),\n",
    "           # ... and label them with the respective list entries\n",
    "           xticklabels=classes, yticklabels=classes,\n",
    "           title='Confusion Matrix',\n",
    "           ylabel='True label',\n",
    "           xlabel='Predicted label')\n",
    "    # Loop over data dimensions and create text annotations.\n",
    "    fmt = 'd'\n",
    "    thresh = cm.max() / 2.\n",
    "    for i in range(cm.shape[0]):\n",
    "        for j in range(cm.shape[1]):\n",
    "            ax.text(j, i, format(cm[i, j], fmt),\n",
    "                    ha=\"center\", va=\"center\",\n",
    "                    color=\"white\" if cm[i, j] > thresh else \"black\")\n",
    "    fig.tight_layout()\n",
    "    return ax"
   ]
  },
  {
   "cell_type": "code",
   "execution_count": 8,
   "metadata": {},
   "outputs": [],
   "source": [
    "def modelfit(alg, X_train, y_train, X_test, y_test, useTrainCV=True, cv_folds=5, early_stopping_rounds=50):\n",
    "    \n",
    "    if useTrainCV:\n",
    "        xgb_param = alg.get_xgb_params()\n",
    "        xgtrain = xgb.DMatrix(X_train, label=y_train)\n",
    "        cvresult = xgb.cv(xgb_param, xgtrain, num_boost_round=alg.get_params()['n_estimators'], nfold=cv_folds,\n",
    "            metrics='auc', early_stopping_rounds=early_stopping_rounds)\n",
    "        alg.set_params(n_estimators=cvresult.shape[0])\n",
    "        print(f\"Best number of estimators = {cvresult.shape[0]}\")\n",
    "    \n",
    "    #Fit the algorithm on the data\n",
    "    alg.fit(np.array(X_train), np.array(y_train), eval_metric='auc')\n",
    "    \n",
    "    #Predict train set:\n",
    "    dtrain_predictions = alg.predict(np.array(X_train))\n",
    "    dtrain_predprob = alg.predict_proba(np.array(X_train))[:,1]\n",
    "        \n",
    "    #Predict test set:\n",
    "    dtest_predictions = alg.predict(np.array(X_test))\n",
    "    dtest_predprob = alg.predict_proba(np.array(X_test))[:,1]\n",
    "        \n",
    "    #Print model report:\n",
    "    print(\"\\nModel Report: \")\n",
    "    print(f\"Accuracy (Test): {accuracy_score(y_test, dtest_predictions):.4f}\")\n",
    "#     print(f\"AUC Score (Train): {roc_auc_score(y_train, dtrain_predprob)}\")\n",
    "    print(f\"AUC Score (Test): {roc_auc_score(y_test, dtest_predprob):.4f}\")\n",
    "    \n",
    "    \n",
    "    return dtest_predictions"
   ]
  },
  {
   "cell_type": "code",
   "execution_count": 9,
   "metadata": {},
   "outputs": [
    {
     "name": "stdout",
     "output_type": "stream",
     "text": [
      "Best number of estimators = 100\n",
      "\n",
      "Model Report: \n",
      "Accuracy (Test): 0.6785\n",
      "AUC Score (Test): 0.7106\n"
     ]
    },
    {
     "data": {
      "text/plain": [
       "<matplotlib.axes._subplots.AxesSubplot at 0x7f2c86506668>"
      ]
     },
     "execution_count": 9,
     "metadata": {},
     "output_type": "execute_result"
    },
    {
     "data": {
      "image/png": "[encoded data removed]",
      "text/plain": [
       "<Figure size 432x288 with 2 Axes>"
      ]
     },
     "metadata": {},
     "output_type": "display_data"
    }
   ],
   "source": [
    "model1 = XGBClassifier(random_state=43, n_jobs=-1)\n",
    "\n",
    "y1_preds = modelfit(model1, X_train, y_train, X_test, y_test)\n",
    "\n",
    "cm = confusion_matrix(y_test, y1_preds)\n",
    "classes = unique_labels(y_test, y1_preds)\n",
    "\n",
    "plot_confusion(cm, classes)"
   ]
  },
  {
   "cell_type": "code",
   "execution_count": 10,
   "metadata": {},
   "outputs": [
    {
     "data": {
      "text/plain": [
       "[('R_age', 0.051199999),\n",
       " ('B_age', 0.033599999),\n",
       " ('no_of_rounds', 0.032000002),\n",
       " ('R_avg_opp_SIG_STR_pct', 0.025599999),\n",
       " ('B_avg_TD_att', 0.024),\n",
       " ('R_Weight_lbs', 0.024),\n",
       " ('B_avg_opp_TOTAL_STR_landed', 0.022399999),\n",
       " ('R_avg_opp_HEAD_landed', 0.022399999),\n",
       " ('R_avg_TOTAL_STR_landed', 0.019200001),\n",
       " ('R_total_time_fought(seconds)', 0.019200001),\n",
       " ('B_avg_DISTANCE_landed', 0.0176),\n",
       " ('B_Reach_cms', 0.0176),\n",
       " ('R_avg_HEAD_landed', 0.0176),\n",
       " ('R_avg_TOTAL_STR_att', 0.0176),\n",
       " ('R_avg_TD_pct', 0.016000001),\n",
       " ('R_avg_opp_DISTANCE_landed', 0.016000001),\n",
       " ('R_avg_opp_PASS', 0.016000001),\n",
       " ('B_avg_BODY_att', 0.0144),\n",
       " ('B_avg_SIG_STR_att', 0.0144),\n",
       " ('B_avg_opp_CLINCH_att', 0.0144),\n",
       " ('B_avg_opp_KD', 0.0144),\n",
       " ('B_avg_opp_SUB_ATT', 0.0128),\n",
       " ('R_avg_LEG_landed', 0.0128),\n",
       " ('R_avg_TD_att', 0.0128),\n",
       " ('R_losses', 0.0128),\n",
       " ('R_avg_opp_DISTANCE_att', 0.0128),\n",
       " ('R_avg_opp_REV', 0.0128),\n",
       " ('R_avg_opp_SIG_STR_landed', 0.0128),\n",
       " ('B_avg_opp_BODY_att', 0.0112),\n",
       " ('B_avg_opp_DISTANCE_att', 0.0112),\n",
       " ('B_avg_opp_TD_att', 0.0112),\n",
       " ('B_avg_opp_TD_pct', 0.0112),\n",
       " ('B_Weight_lbs', 0.0112),\n",
       " ('R_avg_BODY_att', 0.0112),\n",
       " ('R_avg_TD_landed', 0.0112),\n",
       " ('R_Reach_cms', 0.0112),\n",
       " ('B_avg_TOTAL_STR_landed', 0.0096000005),\n",
       " ('R_avg_SUB_ATT', 0.0096000005),\n",
       " ('R_avg_opp_KD', 0.0096000005),\n",
       " ('R_avg_opp_LEG_landed', 0.0096000005),\n",
       " ('R_avg_opp_TD_pct', 0.0096000005),\n",
       " ('R_win_by_Decision_Split', 0.0096000005),\n",
       " ('B_avg_BODY_landed', 0.0080000004),\n",
       " ('B_avg_DISTANCE_att', 0.0080000004),\n",
       " ('B_avg_TD_landed', 0.0080000004),\n",
       " ('B_avg_opp_BODY_landed', 0.0080000004),\n",
       " ('B_avg_opp_PASS', 0.0080000004),\n",
       " ('B_avg_opp_SIG_STR_pct', 0.0080000004),\n",
       " ('B_total_title_bouts', 0.0080000004),\n",
       " ('B_win_by_Decision_Unanimous', 0.0080000004),\n",
       " ('R_avg_GROUND_att', 0.0080000004),\n",
       " ('R_avg_SIG_STR_pct', 0.0080000004),\n",
       " ('B_avg_HEAD_landed', 0.0063999998),\n",
       " ('B_avg_LEG_att', 0.0063999998),\n",
       " ('B_avg_LEG_landed', 0.0063999998),\n",
       " ('B_avg_PASS', 0.0063999998),\n",
       " ('B_avg_opp_DISTANCE_landed', 0.0063999998),\n",
       " ('B_avg_opp_GROUND_att', 0.0063999998),\n",
       " ('B_avg_opp_GROUND_landed', 0.0063999998),\n",
       " ('B_avg_opp_HEAD_att', 0.0063999998),\n",
       " ('B_avg_opp_LEG_att', 0.0063999998),\n",
       " ('B_avg_opp_TD_landed', 0.0063999998),\n",
       " ('R_avg_SIG_STR_landed', 0.0063999998),\n",
       " ('R_avg_opp_TD_landed', 0.0063999998),\n",
       " ('R_total_rounds_fought', 0.0063999998),\n",
       " ('R_Height_cms', 0.0063999998),\n",
       " ('B_avg_GROUND_landed', 0.0048000002),\n",
       " ('B_avg_HEAD_att', 0.0048000002),\n",
       " ('R_avg_CLINCH_landed', 0.0048000002),\n",
       " ('R_avg_DISTANCE_att', 0.0048000002),\n",
       " ('R_avg_DISTANCE_landed', 0.0048000002),\n",
       " ('R_avg_HEAD_att', 0.0048000002),\n",
       " ('R_avg_LEG_att', 0.0048000002),\n",
       " ('R_avg_PASS', 0.0048000002),\n",
       " ('R_avg_REV', 0.0048000002),\n",
       " ('R_avg_opp_GROUND_att', 0.0048000002),\n",
       " ('R_avg_opp_TOTAL_STR_att', 0.0048000002),\n",
       " ('B_avg_CLINCH_att', 0.0031999999),\n",
       " ('B_avg_KD', 0.0031999999),\n",
       " ('B_avg_REV', 0.0031999999),\n",
       " ('B_avg_SIG_STR_pct', 0.0031999999),\n",
       " ('B_avg_SUB_ATT', 0.0031999999),\n",
       " ('B_avg_TD_pct', 0.0031999999),\n",
       " ('B_avg_opp_HEAD_landed', 0.0031999999),\n",
       " ('B_avg_opp_SIG_STR_att', 0.0031999999),\n",
       " ('B_total_time_fought(seconds)', 0.0031999999),\n",
       " ('R_avg_CLINCH_att', 0.0031999999),\n",
       " ('R_avg_opp_BODY_att', 0.0031999999),\n",
       " ('R_avg_opp_BODY_landed', 0.0031999999),\n",
       " ('R_avg_opp_CLINCH_landed', 0.0031999999),\n",
       " ('R_avg_opp_LEG_att', 0.0031999999),\n",
       " ('R_avg_opp_TOTAL_STR_landed', 0.0031999999),\n",
       " ('R_total_title_bouts', 0.0031999999),\n",
       " ('R_win_by_Submission', 0.0031999999),\n",
       " ('title_bout', 0.0016),\n",
       " ('B_avg_CLINCH_landed', 0.0016),\n",
       " ('B_avg_GROUND_att', 0.0016),\n",
       " ('B_avg_SIG_STR_landed', 0.0016),\n",
       " ('B_avg_TOTAL_STR_att', 0.0016),\n",
       " ('B_losses', 0.0016),\n",
       " ('B_avg_opp_CLINCH_landed', 0.0016),\n",
       " ('B_avg_opp_LEG_landed', 0.0016),\n",
       " ('B_avg_opp_REV', 0.0016),\n",
       " ('B_avg_opp_SIG_STR_landed', 0.0016),\n",
       " ('B_total_rounds_fought', 0.0016),\n",
       " ('B_win_by_Submission', 0.0016),\n",
       " ('B_wins', 0.0016),\n",
       " ('R_current_win_streak', 0.0016),\n",
       " ('R_avg_BODY_landed', 0.0016),\n",
       " ('R_avg_GROUND_landed', 0.0016),\n",
       " ('R_longest_win_streak', 0.0016),\n",
       " ('R_avg_opp_CLINCH_att', 0.0016),\n",
       " ('R_avg_opp_GROUND_landed', 0.0016),\n",
       " ('R_avg_opp_HEAD_att', 0.0016),\n",
       " ('R_win_by_KO/TKO', 0.0016),\n",
       " (\"weight_class_Women's Bantamweight\", 0.0016),\n",
       " ('B_Stance_Orthodox', 0.0016),\n",
       " ('B_current_lose_streak', 0.0),\n",
       " ('B_current_win_streak', 0.0),\n",
       " ('B_draw', 0.0),\n",
       " ('B_longest_win_streak', 0.0),\n",
       " ('B_avg_opp_TOTAL_STR_att', 0.0),\n",
       " ('B_win_by_Decision_Majority', 0.0),\n",
       " ('B_win_by_Decision_Split', 0.0),\n",
       " ('B_win_by_KO/TKO', 0.0),\n",
       " ('B_win_by_TKO_Doctor_Stoppage', 0.0),\n",
       " ('B_Height_cms', 0.0),\n",
       " ('R_current_lose_streak', 0.0),\n",
       " ('R_draw', 0.0),\n",
       " ('R_avg_KD', 0.0),\n",
       " ('R_avg_SIG_STR_att', 0.0),\n",
       " ('R_avg_opp_SIG_STR_att', 0.0),\n",
       " ('R_avg_opp_SUB_ATT', 0.0),\n",
       " ('R_avg_opp_TD_att', 0.0),\n",
       " ('R_win_by_Decision_Majority', 0.0),\n",
       " ('R_win_by_Decision_Unanimous', 0.0),\n",
       " ('R_win_by_TKO_Doctor_Stoppage', 0.0),\n",
       " ('R_wins', 0.0),\n",
       " ('weight_class_Bantamweight', 0.0),\n",
       " ('weight_class_Catch Weight', 0.0),\n",
       " ('weight_class_Featherweight', 0.0),\n",
       " ('weight_class_Flyweight', 0.0),\n",
       " ('weight_class_Heavyweight', 0.0),\n",
       " ('weight_class_Light Heavyweight', 0.0),\n",
       " ('weight_class_Lightweight', 0.0),\n",
       " ('weight_class_Middleweight', 0.0),\n",
       " ('weight_class_Open Weight', 0.0),\n",
       " ('weight_class_Welterweight', 0.0),\n",
       " (\"weight_class_Women's Featherweight\", 0.0),\n",
       " (\"weight_class_Women's Flyweight\", 0.0),\n",
       " (\"weight_class_Women's Strawweight\", 0.0),\n",
       " ('B_Stance_Open Stance', 0.0),\n",
       " ('B_Stance_Sideways', 0.0),\n",
       " ('B_Stance_Southpaw', 0.0),\n",
       " ('B_Stance_Switch', 0.0),\n",
       " ('R_Stance_Open Stance', 0.0),\n",
       " ('R_Stance_Orthodox', 0.0),\n",
       " ('R_Stance_Sideways', 0.0),\n",
       " ('R_Stance_Southpaw', 0.0),\n",
       " ('R_Stance_Switch', 0.0)]"
      ]
     },
     "execution_count": 10,
     "metadata": {},
     "output_type": "execute_result"
    }
   ],
   "source": [
    "feat_imps = {}\n",
    "for i, imp in enumerate(model1.feature_importances_):\n",
    "    feat_imps[X_train.columns[i]] = imp\n",
    "\n",
    "sorted_imp_feats = (sorted(feat_imps.items(), key = lambda x: x[1], reverse=True))\n",
    "sorted_imp_feats"
   ]
  },
  {
   "cell_type": "markdown",
   "metadata": {},
   "source": [
    "### Since dataset is imbalanced let's try setting scale_pos_weight to see if we get an improvement"
   ]
  },
  {
   "cell_type": "code",
   "execution_count": 11,
   "metadata": {},
   "outputs": [
    {
     "name": "stdout",
     "output_type": "stream",
     "text": [
      "Best number of estimators = 100\n",
      "\n",
      "Model Report: \n",
      "Accuracy (Test): 0.6884\n",
      "AUC Score (Test): 0.7136\n"
     ]
    },
    {
     "data": {
      "text/plain": [
       "<matplotlib.axes._subplots.AxesSubplot at 0x7f2c84ec3550>"
      ]
     },
     "execution_count": 11,
     "metadata": {},
     "output_type": "execute_result"
    },
    {
     "data": {
      "image/png": "[encoded data removed]",
      "text/plain": [
       "<Figure size 432x288 with 2 Axes>"
      ]
     },
     "metadata": {},
     "output_type": "display_data"
    }
   ],
   "source": [
    "model2 = XGBClassifier(random_state=43, n_jobs=-1, scale_pos_weight=0.7)\n",
    "\n",
    "y2_preds = modelfit(model2, X_train, y_train, X_test, y_test)\n",
    "\n",
    "cm = confusion_matrix(y_test, y2_preds)\n",
    "classes = unique_labels(y_test, y2_preds)\n",
    "\n",
    "plot_confusion(cm, classes)"
   ]
  },
  {
   "cell_type": "markdown",
   "metadata": {},
   "source": [
    "### Hyperparameter tuning "
   ]
  },
  {
   "cell_type": "code",
   "execution_count": 12,
   "metadata": {},
   "outputs": [
    {
     "name": "stdout",
     "output_type": "stream",
     "text": [
      "Best number of estimators = 71\n",
      "\n",
      "Model Report: \n",
      "Accuracy (Test): 0.6785\n",
      "AUC Score (Test): 0.7174\n"
     ]
    },
    {
     "data": {
      "text/plain": [
       "<matplotlib.axes._subplots.AxesSubplot at 0x7f2c84cf2748>"
      ]
     },
     "execution_count": 12,
     "metadata": {},
     "output_type": "execute_result"
    },
    {
     "data": {
      "image/png": "[encoded data removed]",
      "text/plain": [
       "<Figure size 432x288 with 2 Axes>"
      ]
     },
     "metadata": {},
     "output_type": "display_data"
    }
   ],
   "source": [
    "model3 = XGBClassifier(\n",
    " learning_rate =0.1,\n",
    " n_estimators=1000,\n",
    " max_depth=5,\n",
    " min_child_weight=1,\n",
    " gamma=0,\n",
    " subsample=0.8,\n",
    " colsample_bytree=0.8,\n",
    " objective= 'binary:logistic',\n",
    " nthread=4,\n",
    " scale_pos_weight=0.75,\n",
    ")\n",
    "\n",
    "y3_preds = modelfit(model3, X_train, y_train, X_test, y_test)\n",
    "\n",
    "cm = confusion_matrix(y_test, y3_preds)\n",
    "classes = unique_labels(y_test, y3_preds)\n",
    "\n",
    "plot_confusion(cm, classes)"
   ]
  },
  {
   "cell_type": "markdown",
   "metadata": {},
   "source": [
    "### Oversampling"
   ]
  },
  {
   "cell_type": "code",
   "execution_count": 13,
   "metadata": {},
   "outputs": [],
   "source": [
    "from imblearn.over_sampling import ADASYN"
   ]
  },
  {
   "cell_type": "code",
   "execution_count": 14,
   "metadata": {},
   "outputs": [],
   "source": [
    "over_sampler = ADASYN()\n",
    "X_resampled, y_resampled = over_sampler.fit_sample(X_train, y_train)"
   ]
  },
  {
   "cell_type": "code",
   "execution_count": 15,
   "metadata": {},
   "outputs": [
    {
     "data": {
      "text/plain": [
       "0    3303\n",
       "1    3132\n",
       "dtype: int64"
      ]
     },
     "execution_count": 15,
     "metadata": {},
     "output_type": "execute_result"
    }
   ],
   "source": [
    "pd.Series(y_resampled).value_counts()"
   ]
  },
  {
   "cell_type": "code",
   "execution_count": 16,
   "metadata": {},
   "outputs": [
    {
     "name": "stdout",
     "output_type": "stream",
     "text": [
      "Best number of estimators = 100\n",
      "\n",
      "Model Report: \n",
      "Accuracy (Test): 0.6548\n",
      "AUC Score (Test): 0.6858\n"
     ]
    },
    {
     "data": {
      "text/plain": [
       "<matplotlib.axes._subplots.AxesSubplot at 0x7f2c87764a90>"
      ]
     },
     "execution_count": 16,
     "metadata": {},
     "output_type": "execute_result"
    },
    {
     "data": {
      "image/png": "[encoded data removed]",
      "text/plain": [
       "<Figure size 432x288 with 2 Axes>"
      ]
     },
     "metadata": {},
     "output_type": "display_data"
    }
   ],
   "source": [
    "model4 = XGBClassifier(n_jobs=-1, random_state=43)\n",
    "\n",
    "y4_preds = modelfit(model4, X_resampled, y_resampled, X_test, y_test)\n",
    "\n",
    "cm = confusion_matrix(y_test, y4_preds)\n",
    "classes = unique_labels(y_test, y4_preds)\n",
    "\n",
    "plot_confusion(cm, classes)"
   ]
  },
  {
   "cell_type": "markdown",
   "metadata": {},
   "source": [
    "### Hyperparameter tuning for the oversampled data"
   ]
  },
  {
   "cell_type": "code",
   "execution_count": 17,
   "metadata": {
    "scrolled": false
   },
   "outputs": [
    {
     "name": "stdout",
     "output_type": "stream",
     "text": [
      "Best number of estimators = 244\n",
      "\n",
      "Model Report: \n",
      "Accuracy (Test): 0.6706\n",
      "AUC Score (Test): 0.7000\n"
     ]
    },
    {
     "data": {
      "text/plain": [
       "<matplotlib.axes._subplots.AxesSubplot at 0x7f2c865d5828>"
      ]
     },
     "execution_count": 17,
     "metadata": {},
     "output_type": "execute_result"
    },
    {
     "data": {
      "image/png": "[encoded data removed]",
      "text/plain": [
       "<Figure size 432x288 with 2 Axes>"
      ]
     },
     "metadata": {},
     "output_type": "display_data"
    }
   ],
   "source": [
    "model5 = XGBClassifier(\n",
    " learning_rate =0.1,\n",
    " n_estimators=244,\n",
    " max_depth=5,\n",
    " min_child_weight=1,\n",
    " gamma=0,\n",
    " subsample=0.8,\n",
    " colsample_bytree=0.8,\n",
    " objective= 'binary:logistic',\n",
    " nthread=4,\n",
    " scale_pos_weight=1,\n",
    ")\n",
    "\n",
    "y5_preds = modelfit(model5, X_resampled, y_resampled, X_test, y_test)\n",
    "\n",
    "cm = confusion_matrix(y_test, y5_preds)\n",
    "classes = unique_labels(y_test, y5_preds)\n",
    "\n",
    "plot_confusion(cm, classes)"
   ]
  },
  {
   "cell_type": "code",
   "execution_count": 18,
   "metadata": {},
   "outputs": [
    {
     "name": "stdout",
     "output_type": "stream",
     "text": [
      "\n",
      "Model Report: \n",
      "Accuracy (Test): 0.7002\n",
      "AUC Score (Test): 0.7220\n"
     ]
    },
    {
     "data": {
      "text/plain": [
       "<matplotlib.axes._subplots.AxesSubplot at 0x7f2c84f97e80>"
      ]
     },
     "execution_count": 18,
     "metadata": {},
     "output_type": "execute_result"
    },
    {
     "data": {
      "image/png": "[encoded data removed]",
      "text/plain": [
       "<Figure size 432x288 with 2 Axes>"
      ]
     },
     "metadata": {},
     "output_type": "display_data"
    }
   ],
   "source": [
    "model6 = XGBClassifier(learning_rate =0.1, n_estimators=244, max_depth=4,\n",
    "                     min_child_weight=1, gamma=0.1, subsample=0.8, colsample_bytree=0.8,\n",
    "                     objective= 'binary:logistic', reg_alpha= 0, scale_pos_weight=1)\n",
    "\n",
    "y6_preds = modelfit(model6, X_resampled, y_resampled, X_test, y_test, useTrainCV=False)\n",
    "\n",
    "cm = confusion_matrix(y_test, y6_preds)\n",
    "classes = ['blue', 'red']\n",
    "\n",
    "plot_confusion(cm, classes)"
   ]
  },
  {
   "cell_type": "code",
   "execution_count": 19,
   "metadata": {},
   "outputs": [],
   "source": [
    "X_os, y_os = X_resampled, y_resampled = over_sampler.fit_sample(X, label_encoded_y)"
   ]
  },
  {
   "cell_type": "code",
   "execution_count": 20,
   "metadata": {},
   "outputs": [
    {
     "name": "stdout",
     "output_type": "stream",
     "text": [
      "             precision    recall  f1-score   support\n",
      "\n",
      "          0       0.54      0.23      0.32       169\n",
      "          1       0.70      0.90      0.79       338\n",
      "\n",
      "avg / total       0.65      0.68      0.63       507\n",
      "\n"
     ]
    }
   ],
   "source": [
    "print(classification_report(y_test, y1_preds))"
   ]
  },
  {
   "cell_type": "code",
   "execution_count": 21,
   "metadata": {},
   "outputs": [
    {
     "name": "stdout",
     "output_type": "stream",
     "text": [
      "             precision    recall  f1-score   support\n",
      "\n",
      "          0       0.54      0.44      0.49       169\n",
      "          1       0.74      0.81      0.78       338\n",
      "\n",
      "avg / total       0.68      0.69      0.68       507\n",
      "\n"
     ]
    }
   ],
   "source": [
    "print(classification_report(y_test, y2_preds))"
   ]
  },
  {
   "cell_type": "code",
   "execution_count": 22,
   "metadata": {},
   "outputs": [
    {
     "name": "stdout",
     "output_type": "stream",
     "text": [
      "             precision    recall  f1-score   support\n",
      "\n",
      "          0       0.53      0.37      0.43       169\n",
      "          1       0.72      0.83      0.78       338\n",
      "\n",
      "avg / total       0.66      0.68      0.66       507\n",
      "\n"
     ]
    }
   ],
   "source": [
    "print(classification_report(y_test, y3_preds))"
   ]
  },
  {
   "cell_type": "code",
   "execution_count": 23,
   "metadata": {},
   "outputs": [
    {
     "name": "stdout",
     "output_type": "stream",
     "text": [
      "             precision    recall  f1-score   support\n",
      "\n",
      "          0       0.48      0.46      0.47       169\n",
      "          1       0.73      0.75      0.74       338\n",
      "\n",
      "avg / total       0.65      0.65      0.65       507\n",
      "\n"
     ]
    }
   ],
   "source": [
    "print(classification_report(y_test, y4_preds))"
   ]
  },
  {
   "cell_type": "code",
   "execution_count": 24,
   "metadata": {},
   "outputs": [
    {
     "name": "stdout",
     "output_type": "stream",
     "text": [
      "             precision    recall  f1-score   support\n",
      "\n",
      "          0       0.51      0.37      0.43       169\n",
      "          1       0.72      0.82      0.77       338\n",
      "\n",
      "avg / total       0.65      0.67      0.66       507\n",
      "\n"
     ]
    }
   ],
   "source": [
    "print(classification_report(y_test, y5_preds))"
   ]
  },
  {
   "cell_type": "code",
   "execution_count": 25,
   "metadata": {},
   "outputs": [
    {
     "name": "stdout",
     "output_type": "stream",
     "text": [
      "             precision    recall  f1-score   support\n",
      "\n",
      "          0       0.51      0.37      0.43       169\n",
      "          1       0.72      0.82      0.77       338\n",
      "\n",
      "avg / total       0.65      0.67      0.66       507\n",
      "\n"
     ]
    }
   ],
   "source": [
    "print(classification_report(y_test, y5_preds))"
   ]
  },
  {
   "cell_type": "code",
   "execution_count": 26,
   "metadata": {},
   "outputs": [
    {
     "name": "stdout",
     "output_type": "stream",
     "text": [
      "             precision    recall  f1-score   support\n",
      "\n",
      "          0       0.56      0.45      0.50       169\n",
      "          1       0.75      0.83      0.79       338\n",
      "\n",
      "avg / total       0.69      0.70      0.69       507\n",
      "\n"
     ]
    }
   ],
   "source": [
    "print(classification_report(y_test, y6_preds))"
   ]
  },
  {
   "cell_type": "code",
   "execution_count": 29,
   "metadata": {},
   "outputs": [
    {
     "data": {
      "text/plain": [
       "XGBClassifier(base_score=0.5, booster='gbtree', colsample_bylevel=1,\n",
       "       colsample_bytree=0.8, gamma=0.1, learning_rate=0.1,\n",
       "       max_delta_step=0, max_depth=4, min_child_weight=1, missing=None,\n",
       "       n_estimators=244, n_jobs=1, nthread=None,\n",
       "       objective='binary:logistic', random_state=0, reg_alpha=0,\n",
       "       reg_lambda=1, scale_pos_weight=1, seed=None, silent=True,\n",
       "       subsample=0.8)"
      ]
     },
     "execution_count": 29,
     "metadata": {},
     "output_type": "execute_result"
    }
   ],
   "source": [
    "model = model6\n",
    "\n",
    "model.fit(np.array(X_os), np.array(y_os))"
   ]
  },
  {
   "cell_type": "code",
   "execution_count": 30,
   "metadata": {},
   "outputs": [],
   "source": [
    "with open('data/model-os.sav', 'wb') as mdl:\n",
    "    pickle.dump(model, mdl)"
   ]
  },
  {
   "cell_type": "code",
   "execution_count": null,
   "metadata": {},
   "outputs": [],
   "source": []
  }
 ],
 "metadata": {
  "kernelspec": {
   "display_name": "Python 3",
   "language": "python",
   "name": "python3"
  },
  "language_info": {
   "codemirror_mode": {
    "name": "ipython",
    "version": 3
   },
   "file_extension": ".py",
   "mimetype": "text/x-python",
   "name": "python",
   "nbconvert_exporter": "python",
   "pygments_lexer": "ipython3",
   "version": "3.8.3"
  }
 },
 "nbformat": 4,
 "nbformat_minor": 2
}
